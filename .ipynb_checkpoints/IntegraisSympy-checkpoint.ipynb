{
 "cells": [
  {
   "cell_type": "markdown",
   "id": "66b5a5c6-b433-4b2a-a39d-5576231fe9e8",
   "metadata": {
    "tags": []
   },
   "source": [
    "<h1 style='color:#b50000'> Integrais de funções reais com Sympy</h1>\n",
    "\n",
    "<h2 style='color:#0000ff'>1 &nbsp; Questão Norteadora</h2>"
   ]
  },
  {
   "cell_type": "markdown",
   "id": "4eed1e0b-f90a-4e41-a8b5-f0deedf12715",
   "metadata": {},
   "source": [
    "<b style='color:#b50000'>Adaptado de:</b><b> Aplicações do cálculo diferencial e integral: temperatura, calor e dilatação térmica.</b> Autor: Freitas, Roseli Scaranello de Paula. Página 54 e 55. Disponível em <http://hdl.handle.net/11449/214512>."
   ]
  },
  {
   "cell_type": "markdown",
   "id": "8199ba8d-3b88-4b0c-a77e-144c11813488",
   "metadata": {},
   "source": [
    "&nbsp; Sabemos que a queima de combustíveis fósseis gera a poluição\n",
    "atmosférica que é o grande vilão do aquecimento global, com isso, um pesquisador\n",
    "universitário se preocupando com o meio ambiente, desenvolveu um motor de carro\n",
    "que se acredita atender a todos os padrões estaduais de controle de emissões. A\n",
    "nova taxa de emissão do motor é dada por:\n",
    "\n",
    "$$ E(t)=2t^2 $$\n",
    "\n",
    "onde estão as emissões, em bilhões de poluição partículas por ano, no tempo t, em\n",
    "anos. A emissão da taxa de um motor convencional é dada por:\n",
    "\n",
    "$$ C(t) = 9 + t^2$$\n",
    "\n",
    "<b> Responda: </b>\n",
    "\n",
    "a) Em que momento teremos a mesma taxa de emissão das partículas?<br>\n",
    "b) Qual a redução nas emissões no resultado do uso do motor do pesquisador?\n",
    "<hr>"
   ]
  },
  {
   "cell_type": "markdown",
   "id": "74dcad0f-ddd4-473c-83d7-00c549ad1f0f",
   "metadata": {},
   "source": [
    "<h2 style='color:#0000ff'>2 &nbsp; Carregando a biblioteca Sympy</h2>\n"
   ]
  },
  {
   "cell_type": "markdown",
   "id": "c8aeeb32-fe61-48ae-94fa-baea4d9a579c",
   "metadata": {},
   "source": [
    "&nbsp; Existem quatro formas principais de carregar a biblioteca Sympy:\n",
    "\n",
    "<center><b>Formas de carregar e acessar funções do Sympy</b></center>\n",
    "\n",
    "| Modo de carregar | Acesso à &lt; nome_da_função&gt; | Exemplo |\n",
    "| --- | --- | --- |\n",
    "| <b>import</b> sympy | sympy.&lt;nome_da_função&gt;( ) | sympy.cos(1.) |\n",
    "| <b>import</b> sympy <b>as</b> sp | sp.&lt;nome_da_função&gt;( ) | sp.cos(1.) |\n",
    "| <b>from</b> sympy <b>import</b> sin,cos,tan | &lt;nome_da_função&gt;( ) | cos(1.) |\n",
    "| <b>from</b> sympy <b>import</b> *| &lt;nome_da_função&gt;( ) | cos(1.) |\n",
    "\n",
    "<center>Fonte: O autor</center>\n",
    "\n",
    "\n",
    "<br>\n",
    "&nbsp; Vamos utilizar o último modo de carregar o Sympy apresentado na tabela anterior, que carrega todas as funções dessa biblioteca:"
   ]
  },
  {
   "cell_type": "code",
   "execution_count": 45,
   "id": "a4eee6b6-901a-45c7-adb9-87374eb6a37c",
   "metadata": {},
   "outputs": [],
   "source": [
    "from sympy import *"
   ]
  },
  {
   "cell_type": "markdown",
   "id": "18ed3bfb-fb03-4afd-bc4b-5d2ba55dc65f",
   "metadata": {},
   "source": [
    "&nbsp; Uma vez que importamos o Sympy, não é necessário carregar essa biblioteca novamente nesta seção.\n",
    "<hr>"
   ]
  },
  {
   "cell_type": "markdown",
   "id": "959fb7e7-3887-4374-b5ad-d26a8c6f5a48",
   "metadata": {},
   "source": [
    "<h2 style='color:#0000ff'>3 &nbsp; Variáveis simbólicas </h2>"
   ]
  },
  {
   "cell_type": "markdown",
   "id": "a5c17fd0-5ae9-4653-8d12-d9cfe994ded8",
   "metadata": {},
   "source": [
    "&nbsp; Para declarar <b>uma</b> variável simbólica, podemos utilizar a função <b>symbols</b> ou  <b>Symbol</b>."
   ]
  },
  {
   "cell_type": "code",
   "execution_count": 46,
   "id": "ba048ce8-40af-4890-9ed6-344d91aa8b77",
   "metadata": {},
   "outputs": [
    {
     "data": {
      "text/latex": [
       "$\\displaystyle t$"
      ],
      "text/plain": [
       "t"
      ]
     },
     "execution_count": 46,
     "metadata": {},
     "output_type": "execute_result"
    }
   ],
   "source": [
    "t = symbols('t')\n",
    "#ou \n",
    "t = Symbol('t')\n",
    "t"
   ]
  },
  {
   "cell_type": "markdown",
   "id": "ab39267a-9e03-443f-9b01-e51f084700c8",
   "metadata": {},
   "source": [
    "&nbsp; Para declarar <b>várias</b> variáveis simbólicas simultaneamente, utilizamos a função <b>symbols</b>."
   ]
  },
  {
   "cell_type": "code",
   "execution_count": 47,
   "id": "a59f7474-661b-49d8-b1db-31e1bcb52c32",
   "metadata": {},
   "outputs": [
    {
     "data": {
      "text/plain": [
       "(x, y)"
      ]
     },
     "execution_count": 47,
     "metadata": {},
     "output_type": "execute_result"
    }
   ],
   "source": [
    "x , y = symbols('x y')\n",
    "x , y"
   ]
  },
  {
   "cell_type": "markdown",
   "id": "02da5663-bfb0-46dc-8eed-6dd59f26a8ed",
   "metadata": {},
   "source": [
    "<hr>"
   ]
  },
  {
   "cell_type": "markdown",
   "id": "9a32bfb4-1b1b-447c-95a9-7ee287261578",
   "metadata": {},
   "source": [
    "<h2 style='color:#0000ff'>4 &nbsp; Funções de variáveis simbólicas</h2>"
   ]
  },
  {
   "cell_type": "markdown",
   "id": "bbd6fa84-89e9-4abb-98a6-d5a308c23586",
   "metadata": {},
   "source": [
    "&nbsp; Existem várias formas de declarar uma função simbólica em Python. Uma delas possui ampla aplicabilidade em outras funções Sympy, essa maneira de definir uma função consiste simplesmente em atribuir uma função à uma variável. Por exemplo, seja $f$ uma função real definida por:\n",
    "$$ f(x)=4x-x^2.$$\n",
    "&nbsp; Para definir $f$ em Python, basta escrever:"
   ]
  },
  {
   "cell_type": "code",
   "execution_count": 61,
   "id": "483faa2c-2e02-4772-bf3d-d6f469d9f23b",
   "metadata": {},
   "outputs": [
    {
     "data": {
      "text/latex": [
       "$\\displaystyle - x^{2} + 4 x$"
      ],
      "text/plain": [
       "-x**2 + 4*x"
      ]
     },
     "execution_count": 61,
     "metadata": {},
     "output_type": "execute_result"
    }
   ],
   "source": [
    "f = 4*x-x**2\n",
    "f"
   ]
  },
  {
   "cell_type": "markdown",
   "id": "8066de1f-c23c-4681-848e-e101bd9977c9",
   "metadata": {},
   "source": [
    "&nbsp; <b>Observação:</b> A biblioteca Sympy e a variável $x$ foram declaradas em comandos anteriores."
   ]
  },
  {
   "cell_type": "markdown",
   "id": "126dd2eb-1dc3-4221-9088-d39b1116fee1",
   "metadata": {},
   "source": [
    "&nbsp; Para calcular obter o valor da função num ponto, basta utilizar a função <b>subs</b>. Por exemplo, para obter $f(1)$, basta escrever:"
   ]
  },
  {
   "cell_type": "code",
   "execution_count": 62,
   "id": "74f34163-756b-4a53-9ff3-7003d3fa5ac2",
   "metadata": {},
   "outputs": [
    {
     "data": {
      "text/latex": [
       "$\\displaystyle 3$"
      ],
      "text/plain": [
       "3"
      ]
     },
     "execution_count": 62,
     "metadata": {},
     "output_type": "execute_result"
    }
   ],
   "source": [
    "f.subs(x,1)"
   ]
  },
  {
   "cell_type": "markdown",
   "id": "277afff0-6ab4-472a-8575-74f9ea2b9a8c",
   "metadata": {},
   "source": [
    "&nbsp; Neste momento, vamos considerar a função real $g$ definida por: \n",
    "$$ g(x,y) = 1-x^2-y^2 $$"
   ]
  },
  {
   "cell_type": "markdown",
   "id": "05c6aa41-30c9-4686-abcf-206bf12a2446",
   "metadata": {},
   "source": [
    "&nbsp; Definindo $g$ em Python:"
   ]
  },
  {
   "cell_type": "code",
   "execution_count": 51,
   "id": "280dc830-1ea8-4027-be78-a2f1e6db6cd1",
   "metadata": {},
   "outputs": [
    {
     "data": {
      "text/latex": [
       "$\\displaystyle - x^{2} - y^{2} + 1$"
      ],
      "text/plain": [
       "-x**2 - y**2 + 1"
      ]
     },
     "execution_count": 51,
     "metadata": {},
     "output_type": "execute_result"
    }
   ],
   "source": [
    "g = 1 - x**2 - y**2\n",
    "g"
   ]
  },
  {
   "cell_type": "markdown",
   "id": "608a5b66-a862-49f7-93c5-4f5a2b0b0e02",
   "metadata": {},
   "source": [
    "&nbsp; Para calcular obter o valor da função de duas variáveis num ponto, basta utilizar a função <b>subs</b>. Por exemplo, para obter $f(1,2)$, basta escrever:"
   ]
  },
  {
   "cell_type": "code",
   "execution_count": 52,
   "id": "2e83bca4-0083-44a3-848b-b8e654b0478d",
   "metadata": {},
   "outputs": [
    {
     "data": {
      "text/latex": [
       "$\\displaystyle -4$"
      ],
      "text/plain": [
       "-4"
      ]
     },
     "execution_count": 52,
     "metadata": {},
     "output_type": "execute_result"
    }
   ],
   "source": [
    "g.subs([(x,1),(y,2)])"
   ]
  },
  {
   "cell_type": "markdown",
   "id": "807de63d-5859-4f3b-bff0-0af294319b21",
   "metadata": {},
   "source": [
    "<hr>\n",
    "<h2 style='color:#0000ff'>5 &nbsp; Pontos de intersecção entre curvas</h2>"
   ]
  },
  {
   "cell_type": "markdown",
   "id": "036d490d-fcdb-4de1-8f4c-76bf4004a875",
   "metadata": {},
   "source": [
    "<hr>\n",
    "<h2 style='color:#0000ff'>6 &nbsp; Representação gráfica de funções 2D</h2>"
   ]
  },
  {
   "cell_type": "markdown",
   "id": "15118ecc-d039-4d49-b7ce-d30e4ad9ef21",
   "metadata": {},
   "source": [
    "<hr>"
   ]
  },
  {
   "cell_type": "markdown",
   "id": "d0935948-2e68-4b0b-b3bb-82df4eb80d14",
   "metadata": {},
   "source": [
    "<h2 style='color:#0000ff'>7 &nbsp; Integração com Sympy</h2>"
   ]
  },
  {
   "cell_type": "markdown",
   "id": "62d1769e-213f-45a4-bbac-796b2ecc13a2",
   "metadata": {},
   "source": [
    "&nbsp; A biblioteca Sympy fornece a função <b>integrate</b>, essa função pode ser utilizada para calcular integrais indefinidas ou definidas de uma função real de $n$ coordenadas, como mostra a tabela a seguir:\n",
    "\n",
    "<center><b>Cálculo de integrais com o Sympy</b></center>\n",
    "\n",
    "| Integral | Em Python |\n",
    "| --- | --- |\n",
    "| $\\int f(x)dx$ | <font size=\"2px\">integrate( f , x )</font> | \n",
    "| $\\int_{a}^{b} f(x)dx$ | <font size=\"2px\">integrate( f , ( x , a , b) )</font> | \n",
    "| $\\int_{c}^{d}\\int_{a}^{b} f(x,y)dxdy$ | <font size=\"2px\">integrate( f , ( x , a , b ) , ( y , c , d ) )</font> | \n",
    "| $\\int_{a}^{b}\\int_{g(x)}^{h(x)} f(x,y)dxdy$ | <font size=\"2px\">integrate( f , ( x , g , f ) , ( y , a , b ) )</font> | \n",
    "|‎ ‎ ‎ ‎ ‎ ‎ ‎ ‎ ‎ ‎ ‎ ‎ ‎ ‎ ‎ ‎‎ ‎ ‎ ‎ ‎ ‎ ‎ ‎ ‎ ‎ ‎  ‎ ‎ ‎ ‎ ‎ ‎ ‎ ‎ ‎ ‎ ‎ ‎   ‎ ‎ ‎ ‎ ‎‎ ‎ ‎ ‎ ‎ ‎‎ ‎ ‎ ‎Fonte: O autor  | |\n",
    "\n",
    "<hr>"
   ]
  },
  {
   "cell_type": "markdown",
   "id": "7bad28e6-4616-4aa8-84be-172dd86866d8",
   "metadata": {},
   "source": [
    "<h3 style='color:#0e2b58'>7.1 &nbsp;Exercícios: Integral indefinida</h3>"
   ]
  },
  {
   "cell_type": "markdown",
   "id": "7b463ef6-15eb-4389-8829-50b9edc0b906",
   "metadata": {},
   "source": [
    "<b style='color:#008000'>&nbsp; Exercício 7.1.1: </b>Mostre que:"
   ]
  },
  {
   "cell_type": "markdown",
   "id": "886fe2eb-003e-44fb-804c-cd0f12347ea4",
   "metadata": {},
   "source": [
    "&nbsp; a) $I_{a} = \\int e^{2x}\\textrm{sen}(x)dx=\\frac{1}{5}[-e^{2x}\\cos(x)+2e^{2x}\\textrm{sen}(x)]+C$\n",
    "\n",
    "&nbsp;<b style='color:#7f7f7f'>&nbsp;Solução:</b>"
   ]
  },
  {
   "cell_type": "markdown",
   "id": "a17d1a21-c3a8-41ca-926e-c38799d5505f",
   "metadata": {},
   "source": [
    "&nbsp; <b>Passo 1</b>: Declare o integrando."
   ]
  },
  {
   "cell_type": "code",
   "execution_count": 63,
   "id": "5b3e98ce-540d-45ed-95b4-3ab8ac8d986e",
   "metadata": {},
   "outputs": [
    {
     "data": {
      "text/latex": [
       "$\\displaystyle e^{2 x} \\sin{\\left(x \\right)}$"
      ],
      "text/plain": [
       "exp(2*x)*sin(x)"
      ]
     },
     "execution_count": 63,
     "metadata": {},
     "output_type": "execute_result"
    }
   ],
   "source": [
    "fa = exp(2*x)*sin(x)\n",
    "fa"
   ]
  },
  {
   "cell_type": "markdown",
   "id": "e3bc758c-54c6-4d4b-b835-48d7f98229e2",
   "metadata": {},
   "source": [
    "&nbsp; <b>Passo 2</b>: Calcule a integral indefinida."
   ]
  },
  {
   "cell_type": "code",
   "execution_count": 67,
   "id": "958d4012-d4f8-4be3-a418-06a0c1cc7f56",
   "metadata": {},
   "outputs": [
    {
     "data": {
      "text/latex": [
       "$\\displaystyle \\frac{2 e^{2 x} \\sin{\\left(x \\right)}}{5} - \\frac{e^{2 x} \\cos{\\left(x \\right)}}{5}$"
      ],
      "text/plain": [
       "2*exp(2*x)*sin(x)/5 - exp(2*x)*cos(x)/5"
      ]
     },
     "execution_count": 67,
     "metadata": {},
     "output_type": "execute_result"
    }
   ],
   "source": [
    "Ia = integrate(fa,x)\n",
    "Ia"
   ]
  },
  {
   "cell_type": "markdown",
   "id": "215f3f1c-b96f-4f9a-82f1-af3b7bbef383",
   "metadata": {},
   "source": [
    "<hr>"
   ]
  },
  {
   "cell_type": "markdown",
   "id": "9017a0fd-8942-47f6-9a59-be8841724543",
   "metadata": {},
   "source": [
    "&nbsp; b) $ I_{b} = \\int \\textrm{sen}\\left [ \\textrm{ln}(x) \\right ]dx = \\frac{1}{2}x\\textrm{sen}(\\ln|x|)-\\frac{x}{2}\\cos(\\ln|x|)+C$\n",
    "\n",
    "&nbsp;<b style='color:#7f7f7f'>&nbsp;Solução:</b>"
   ]
  },
  {
   "cell_type": "markdown",
   "id": "945a41ee-adb6-4eea-b4bb-35af5a43fa62",
   "metadata": {},
   "source": [
    "&nbsp; <b>Passo 1</b>: Declare o integrando (<b>dica:</b> Em Python, escrevemos $ln(x)$ como $\\textrm{log(x)}$)."
   ]
  },
  {
   "cell_type": "code",
   "execution_count": 73,
   "id": "8efbab1e-fb2a-474b-b318-f73208c22f3c",
   "metadata": {},
   "outputs": [
    {
     "data": {
      "text/latex": [
       "$\\displaystyle \\sin{\\left(\\log{\\left(x \\right)} \\right)}$"
      ],
      "text/plain": [
       "sin(log(x))"
      ]
     },
     "execution_count": 73,
     "metadata": {},
     "output_type": "execute_result"
    }
   ],
   "source": [
    "fb = sin(log(x))\n",
    "fb"
   ]
  },
  {
   "cell_type": "markdown",
   "id": "1794f9ba-b814-4bce-9e1f-a957c9f6a5bf",
   "metadata": {},
   "source": [
    "&nbsp; <b>Passo 2</b>: Calcule a integral indefinida."
   ]
  },
  {
   "cell_type": "code",
   "execution_count": 72,
   "id": "52bb117c-8d73-4328-8b01-a078e728ce64",
   "metadata": {},
   "outputs": [
    {
     "data": {
      "text/latex": [
       "$\\displaystyle \\frac{x \\sin{\\left(\\log{\\left(x \\right)} \\right)}}{2} - \\frac{x \\cos{\\left(\\log{\\left(x \\right)} \\right)}}{2}$"
      ],
      "text/plain": [
       "x*sin(log(x))/2 - x*cos(log(x))/2"
      ]
     },
     "execution_count": 72,
     "metadata": {},
     "output_type": "execute_result"
    }
   ],
   "source": [
    "Ib = integrate(fb,x)\n",
    "Ib"
   ]
  },
  {
   "cell_type": "markdown",
   "id": "d48b8dc6-6b56-4890-93a5-64516cd2890e",
   "metadata": {},
   "source": [
    "<hr>"
   ]
  },
  {
   "cell_type": "markdown",
   "id": "b543478c-516e-462b-aad7-517fa8aeb529",
   "metadata": {},
   "source": [
    "<h3 style='color:#0e2b58'>7.2 &nbsp;Exercícios: Integral definida</h3>\n",
    "\n",
    "<b style='color:#008000'>&nbsp; Exercício 7.2.1: </b>Mostre que:\n",
    "\n",
    "&nbsp;a) $I_c = \\int_{-3}^{4}\\left| x+2 \\right|dx=\\frac{37}{2}$\n",
    "\n",
    "&nbsp;<b style='color:#7f7f7f'>&nbsp;Solução:</b>"
   ]
  },
  {
   "cell_type": "code",
   "execution_count": 77,
   "id": "55aad63e-a7f5-4cb5-b3a6-dcaf1af3e641",
   "metadata": {},
   "outputs": [
    {
     "data": {
      "text/latex": [
       "$\\displaystyle \\frac{37}{2}$"
      ],
      "text/plain": [
       "37/2"
      ]
     },
     "execution_count": 77,
     "metadata": {},
     "output_type": "execute_result"
    }
   ],
   "source": [
    "#Declarando o integrando:\n",
    "fc = abs(x+2)\n",
    "#Resolvendo a integral:\n",
    "Ic = integrate(fc,(x,-3,4))\n",
    "Ic"
   ]
  },
  {
   "cell_type": "markdown",
   "id": "ac6d85ab-94f1-4d0f-9f78-c358c6b591e1",
   "metadata": {},
   "source": [
    "&nbsp;b) $I_d = \\int_{0}^{\\pi/2}\\textrm{sen}(x)dx=1$<br>\n",
    "&nbsp; <b>Dica:</b> Em Python, $\\pi$ escreve-se <b><i>pi</i></b>.\n",
    "\n",
    "&nbsp;<b style='color:#7f7f7f'>&nbsp;Solução:</b>\n"
   ]
  },
  {
   "cell_type": "code",
   "execution_count": 78,
   "id": "68ef012a-c9c8-438c-a11a-1c6e4cc97ec5",
   "metadata": {},
   "outputs": [
    {
     "data": {
      "text/latex": [
       "$\\displaystyle 1$"
      ],
      "text/plain": [
       "1"
      ]
     },
     "execution_count": 78,
     "metadata": {},
     "output_type": "execute_result"
    }
   ],
   "source": [
    "#Resolvendo a integral de forma compacta:\n",
    "Id = integrate(sin(x),(x,0,pi/2))\n",
    "Id"
   ]
  },
  {
   "cell_type": "markdown",
   "id": "d7315203-c66b-4306-891c-1cdf8e3f1665",
   "metadata": {},
   "source": [
    "&nbsp;c) $ I_e=\\int_{1}^{2}\\textrm{ln(x)}dx=2\\ln(2)-1$\n",
    "\n",
    "&nbsp;<b style='color:#7f7f7f'>&nbsp;Solução:</b>"
   ]
  },
  {
   "cell_type": "code",
   "execution_count": 81,
   "id": "cb94a0c1-8f2f-426f-8ec9-97a7da954e57",
   "metadata": {},
   "outputs": [
    {
     "data": {
      "text/latex": [
       "$\\displaystyle -1 + 2 \\log{\\left(2 \\right)}$"
      ],
      "text/plain": [
       "-1 + 2*log(2)"
      ]
     },
     "execution_count": 81,
     "metadata": {},
     "output_type": "execute_result"
    }
   ],
   "source": [
    "#Resolvendo a integral de forma compacta:\n",
    "Ie = integrate(log(x),(x,1,2))\n",
    "Ie"
   ]
  },
  {
   "cell_type": "markdown",
   "id": "746f1837-1186-4cdb-8709-7691935bdd0e",
   "metadata": {},
   "source": [
    "<hr>"
   ]
  },
  {
   "cell_type": "markdown",
   "id": "f4d5895a-337d-4ce3-85ce-816b608f5987",
   "metadata": {},
   "source": [
    "<h3 style='color:#0e2b58'>7.3 &nbsp;Exercícios: Integral iterada</h3>"
   ]
  },
  {
   "cell_type": "markdown",
   "id": "c97275a6-b0b5-4e64-b52b-f48521a17f81",
   "metadata": {},
   "source": [
    "<b style='color:#008000'>&nbsp; Exercício 7.3.1: </b>Mostre que:\n",
    "\n",
    "&nbsp;a) $I_f = \\int_{0}^{3}\\int_{0}^{1}xe^{xy}dydx = e^3-4$\n",
    "\n",
    "&nbsp;<b style='color:#7f7f7f'>&nbsp;Solução:</b>\n",
    "\n",
    "&nbsp; <b>Passo 1</b>: Declare o integrando."
   ]
  },
  {
   "cell_type": "code",
   "execution_count": 84,
   "id": "7afbbe60-c251-4e92-a16a-c73ae4692a96",
   "metadata": {},
   "outputs": [
    {
     "data": {
      "text/latex": [
       "$\\displaystyle x e^{x y}$"
      ],
      "text/plain": [
       "x*exp(x*y)"
      ]
     },
     "execution_count": 84,
     "metadata": {},
     "output_type": "execute_result"
    }
   ],
   "source": [
    "ff = x*exp(x*y)\n",
    "ff"
   ]
  },
  {
   "cell_type": "markdown",
   "id": "04a15fff-58ff-44a7-b0af-21a270fd0599",
   "metadata": {},
   "source": [
    "&nbsp; <b>Passo 2</b>: Calcule a integral indefinida."
   ]
  },
  {
   "cell_type": "code",
   "execution_count": 88,
   "id": "5543e1cd-1f5e-4fdd-a139-dccca5adc2a0",
   "metadata": {},
   "outputs": [
    {
     "data": {
      "text/latex": [
       "$\\displaystyle -4 + e^{3}$"
      ],
      "text/plain": [
       "-4 + exp(3)"
      ]
     },
     "execution_count": 88,
     "metadata": {},
     "output_type": "execute_result"
    }
   ],
   "source": [
    "If = integrate(ff,(y,0,1),(x,0,3))\n",
    "If"
   ]
  },
  {
   "cell_type": "markdown",
   "id": "23f78b88-634f-49fb-a99d-420ca59a38f0",
   "metadata": {},
   "source": [
    "<hr>"
   ]
  },
  {
   "cell_type": "markdown",
   "id": "30050bbb-984b-4db0-b101-4d81c5b67c38",
   "metadata": {},
   "source": [
    "&nbsp;b) $I_g = \\int_{0}^{1}\\int_{0}^{2} x^4 y^2  dydx = \\frac{8}{15}$\n",
    "\n",
    "&nbsp;<b style='color:#7f7f7f'>&nbsp;Solução:</b>\n",
    "\n",
    "&nbsp; <b>Passo 1</b>: Declare o integrando."
   ]
  },
  {
   "cell_type": "code",
   "execution_count": 90,
   "id": "6f752f5c-c92c-4119-b0fa-628a8106c137",
   "metadata": {},
   "outputs": [
    {
     "data": {
      "text/latex": [
       "$\\displaystyle x^{4} y^{2}$"
      ],
      "text/plain": [
       "x**4*y**2"
      ]
     },
     "execution_count": 90,
     "metadata": {},
     "output_type": "execute_result"
    }
   ],
   "source": [
    "fg = x**4*y**2\n",
    "fg"
   ]
  },
  {
   "cell_type": "markdown",
   "id": "48b80bd8-27d1-4d58-98d4-c89bb02015d8",
   "metadata": {},
   "source": [
    "&nbsp; <b>Passo 2</b>: Calcule a integral indefinida."
   ]
  },
  {
   "cell_type": "code",
   "execution_count": 91,
   "id": "ee09a1e1-b130-42ea-b080-f1414ef32e9a",
   "metadata": {},
   "outputs": [
    {
     "data": {
      "text/latex": [
       "$\\displaystyle \\frac{8}{15}$"
      ],
      "text/plain": [
       "8/15"
      ]
     },
     "execution_count": 91,
     "metadata": {},
     "output_type": "execute_result"
    }
   ],
   "source": [
    "Ig = integrate(fg,(y,0,2),(x,0,1))\n",
    "Ig"
   ]
  },
  {
   "cell_type": "markdown",
   "id": "a5b2465a-16cf-4787-8cb5-2990cf5541b5",
   "metadata": {},
   "source": [
    "<hr>"
   ]
  },
  {
   "cell_type": "markdown",
   "id": "71fa5ccf-e457-413a-9d87-5a1596b5a187",
   "metadata": {},
   "source": [
    "&nbsp;c) $I_h = \\int_{1}^{5}\\int_{x^{1/3}}^{x}\\frac{1}{x}dydx = 7-3 \\cdot 5^{1/3} \\approx 1.87 $\n",
    "\n",
    "&nbsp;<b style='color:#7f7f7f'>&nbsp;Solução:</b>"
   ]
  },
  {
   "cell_type": "code",
   "execution_count": 93,
   "id": "e7d92c91-b0a6-4ae0-a08b-29abb8176c98",
   "metadata": {},
   "outputs": [
    {
     "data": {
      "text/latex": [
       "$\\displaystyle 1.87007215996991$"
      ],
      "text/plain": [
       "1.87007215996991"
      ]
     },
     "execution_count": 93,
     "metadata": {},
     "output_type": "execute_result"
    }
   ],
   "source": [
    "#Definindo o integrando:\n",
    "fh = 1/x\n",
    "\n",
    "#Calculando a integral:\n",
    "Ih = integrate( fh , ( y , x**(1/3) , x ) , ( x , 1 ,  5 ) )\n",
    "Ih"
   ]
  },
  {
   "cell_type": "markdown",
   "id": "efcfcaf9-96ef-4cd0-a410-ba567989c862",
   "metadata": {},
   "source": [
    "<hr>"
   ]
  },
  {
   "cell_type": "markdown",
   "id": "633ddddf-44cf-47ce-96d7-525965d2c28f",
   "metadata": {},
   "source": [
    "&nbsp;d) $I_i = \\int_{0}^{2}\\int_{0}^{\\sqrt{y}}x^3dxdy = \\frac{2}{3} $\n",
    "\n",
    "&nbsp;<b style='color:#7f7f7f'>&nbsp;Solução:</b>"
   ]
  },
  {
   "cell_type": "code",
   "execution_count": 97,
   "id": "e1a828d9-d74c-4a06-9816-0f4f391e648c",
   "metadata": {},
   "outputs": [
    {
     "data": {
      "text/latex": [
       "$\\displaystyle \\frac{2}{3}$"
      ],
      "text/plain": [
       "2/3"
      ]
     },
     "execution_count": 97,
     "metadata": {},
     "output_type": "execute_result"
    }
   ],
   "source": [
    "#Resolvendo a integral de forma compacta:\n",
    "Ii = integrate(x**3,(x,0,sqrt(y)),(y,0,2))\n",
    "Ii"
   ]
  },
  {
   "cell_type": "markdown",
   "id": "cdfa19ca-6004-4311-9141-d57a0a863d78",
   "metadata": {},
   "source": [
    "<br>"
   ]
  },
  {
   "cell_type": "markdown",
   "id": "042744a2-98ad-4fc7-a5d4-880fb0edf23d",
   "metadata": {},
   "source": [
    "<h3 style='color:#0000ff'>2. Representação gráfica de curvas 2D com <i>plot</i></h3>"
   ]
  },
  {
   "cell_type": "markdown",
   "id": "7c9b10a1-7b90-4293-93fb-5536bd5cb73f",
   "metadata": {},
   "source": [
    "Exibindo o gráfico de $f$ e $g$ (comando: <b><b style='color:#098ba7'>sp</b>.plot</b>):"
   ]
  },
  {
   "cell_type": "code",
   "execution_count": 5,
   "id": "bb672a50-ba53-401d-8299-60dd12c253ab",
   "metadata": {},
   "outputs": [
    {
     "data": {
      "image/png": "[encoded data removed]",
      "text/plain": [
       "<Figure size 432x288 with 1 Axes>"
      ]
     },
     "metadata": {
      "needs_background": "light"
     },
     "output_type": "display_data"
    },
    {
     "data": {
      "text/plain": [
       "<sympy.plotting.plot.Plot at 0x164708d59f0>"
      ]
     },
     "execution_count": 5,
     "metadata": {},
     "output_type": "execute_result"
    }
   ],
   "source": [
    "sp.plot( f , g , ylim=[-7.5,7.5] , xlim=[-2,4] , legend=True )"
   ]
  },
  {
   "cell_type": "markdown",
   "id": "b8ef7641-89ae-41f3-a140-5a00e608c32c",
   "metadata": {},
   "source": [
    "<h3 style='color:#0000ff'>3. Representação gráfica de regiões 2D com <i>plot_implicit</i></h3>"
   ]
  },
  {
   "cell_type": "markdown",
   "id": "cb9cedf0-0ef6-4d0e-ac52-fd3d8e787584",
   "metadata": {},
   "source": [
    "Representando a área entre $f$ e $g$ (comandos: <b><b style='color:#098ba7'>sp</b>.plot_implicit </b> e <b><b style='color:#098ba7'>sp</b>.And </b>) :"
   ]
  },
  {
   "cell_type": "code",
   "execution_count": 6,
   "id": "870b0e7d-f327-42fb-a971-4ca1688fcac8",
   "metadata": {},
   "outputs": [
    {
     "data": {
      "image/png": "[encoded data removed]",
      "text/plain": [
       "<Figure size 432x288 with 1 Axes>"
      ]
     },
     "metadata": {
      "needs_background": "light"
     },
     "output_type": "display_data"
    }
   ],
   "source": [
    "plot1 = sp.plot_implicit( sp.And( y < f , y > g) , (x,0,3.5) , (y,-2,4.5) , line_color='gray')"
   ]
  },
  {
   "cell_type": "markdown",
   "id": "951143b7-e575-4760-8757-604253845ff4",
   "metadata": {},
   "source": [
    "<h3 style='color:#0000ff'>4. Solução de sistemas de equações</h3>"
   ]
  },
  {
   "cell_type": "markdown",
   "id": "6586c988-e0e9-4186-b546-50e828b3bf0e",
   "metadata": {},
   "source": [
    "Encontrando pontos de intersecção de $f$ e $g$ (comandos: <b><b style='color:#098ba7'>sp</b>.Eq </b> e <b><b style='color:#098ba7'>sp</b>.solve </b>):"
   ]
  },
  {
   "cell_type": "code",
   "execution_count": 7,
   "id": "6481ad87-7f63-4e81-8c9b-069b60249651",
   "metadata": {},
   "outputs": [
    {
     "data": {
      "text/plain": [
       "[(0, 0), (3, 3)]"
      ]
     },
     "execution_count": 7,
     "metadata": {},
     "output_type": "execute_result"
    }
   ],
   "source": [
    "eq1 = sp.Eq(y,f)\n",
    "eq2 = sp.Eq(y,g)\n",
    "\n",
    "pontos = sp.solve([eq1,eq2],(x,y))\n",
    "pontos"
   ]
  },
  {
   "cell_type": "markdown",
   "id": "f4681733-96a9-488a-b513-64080d21bdb6",
   "metadata": {},
   "source": [
    "<h3 style='color:#0000ff'>5. Representando retas com <i>plot_implicit</i></h3>"
   ]
  },
  {
   "cell_type": "markdown",
   "id": "86a4e784-3b02-414b-b304-aec42d0d0e01",
   "metadata": {},
   "source": [
    "Plotando a reta $x=3$ e $y=3$ (comandos: <b>plot.append </b> e <b>plot.show </b>):"
   ]
  },
  {
   "cell_type": "code",
   "execution_count": 8,
   "id": "bdbe8dc6-c7d3-4c9d-9602-f635f84464ad",
   "metadata": {},
   "outputs": [],
   "source": [
    "eq3 = sp.Eq(x,3)\n",
    "eq4 = sp.Eq(y,3)\n",
    "\n",
    "plot2 = sp.plot_implicit( eq3 , (x,0,3.5) , (y,0,3) , show=False , line_color='b' , adaptive=False  )\n",
    "plot3 = sp.plot_implicit( eq4 , (x,0,3) , (y,-2,4.5) , show=False , line_color='m' , adaptive=False )"
   ]
  },
  {
   "cell_type": "markdown",
   "id": "599d3b26-0a50-440a-91ce-fe1187fbdd56",
   "metadata": {},
   "source": [
    "Plotando a área de $f$ e $g$ junto às retas $x=3$ e $y=3$:"
   ]
  },
  {
   "cell_type": "code",
   "execution_count": 9,
   "id": "fbda3db3-554d-44fa-8925-0a237a12a021",
   "metadata": {},
   "outputs": [
    {
     "data": {
      "image/png": "[encoded data removed]",
      "text/plain": [
       "<Figure size 432x288 with 1 Axes>"
      ]
     },
     "metadata": {
      "needs_background": "light"
     },
     "output_type": "display_data"
    }
   ],
   "source": [
    "plot1.append(plot2[0])\n",
    "plot1.append(plot3[0])\n",
    "plot1.show()"
   ]
  },
  {
   "cell_type": "markdown",
   "id": "2f3d739a-7ee1-4fac-be2b-c10c9955692b",
   "metadata": {},
   "source": [
    "<h3 style='color:#0000ff'>6. Integrais definidas</h3>"
   ]
  },
  {
   "cell_type": "markdown",
   "id": "0ae26666-f5a2-4b71-b0df-4496e9d23e7b",
   "metadata": {},
   "source": [
    "Nesta etapa, vamos a área abaixo de $f$ e acima de $g$ (comando: <b><b style='color:#098ba7'>sp</b>.integrate</b>). <br>Matemáticamente:"
   ]
  },
  {
   "cell_type": "markdown",
   "id": "e9839754-f18d-4c16-91de-86e11fc80e35",
   "metadata": {},
   "source": [
    "$$A = \\int_{0}^{3}(4x-x^2)dx-\\int_{0}^{3}(x^2-2x)dx$$"
   ]
  },
  {
   "cell_type": "markdown",
   "id": "3d4738d8-66fa-4233-934d-112e75e59b0a",
   "metadata": {},
   "source": [
    "De modo equivalente, em <b>Python</b>:"
   ]
  },
  {
   "cell_type": "code",
   "execution_count": 10,
   "id": "266937d3-fa22-40dc-8f3f-7605f430bdae",
   "metadata": {},
   "outputs": [
    {
     "data": {
      "text/latex": [
       "$\\displaystyle 9$"
      ],
      "text/plain": [
       "9"
      ]
     },
     "execution_count": 10,
     "metadata": {},
     "output_type": "execute_result"
    }
   ],
   "source": [
    "A = sp.integrate( f , ( x , 0 , 3 ) ) - sp.integrate( g , ( x , 0 , 3 ) ) \n",
    "A"
   ]
  },
  {
   "cell_type": "markdown",
   "id": "5cc058cc-daa3-4334-9207-c4c610e9c707",
   "metadata": {},
   "source": [
    "<h3 style='color:#0000ff'>7. Integrais indefinidas</h3>"
   ]
  },
  {
   "cell_type": "markdown",
   "id": "b06f18eb-d0db-4d70-b88a-eba603486642",
   "metadata": {},
   "source": [
    "Declarando contante $C$ (Função: <b><b style='color:#098ba7'>sp</b>.Symbol</b>):"
   ]
  },
  {
   "cell_type": "code",
   "execution_count": 11,
   "id": "67a1165c-5489-4f0b-8c2f-43f92b88733b",
   "metadata": {},
   "outputs": [],
   "source": [
    "c = sp.Symbol('C')"
   ]
  },
  {
   "cell_type": "markdown",
   "id": "1d60ad68-6994-4631-81e4-00f7c118d4e5",
   "metadata": {},
   "source": [
    "Calculando a área abaixo de $f$ e acima de $g$ usando a integral <b>indefinida</b> (comando: <b><b style='color:#098ba7'>sp</b>.integrate</b>):"
   ]
  },
  {
   "cell_type": "code",
   "execution_count": 12,
   "id": "e78a27dd-f20b-45ab-b355-909e9749875b",
   "metadata": {},
   "outputs": [
    {
     "data": {
      "text/latex": [
       "$\\displaystyle C - \\frac{2 x^{3}}{3} + 3 x^{2}$"
      ],
      "text/plain": [
       "C - 2*x**3/3 + 3*x**2"
      ]
     },
     "execution_count": 12,
     "metadata": {},
     "output_type": "execute_result"
    }
   ],
   "source": [
    "I = sp.integrate( f , x ) - sp.integrate( g , x ) + c\n",
    "I"
   ]
  },
  {
   "cell_type": "markdown",
   "id": "33d5d27b-4b57-42aa-afec-4fed4db566bd",
   "metadata": {},
   "source": [
    "<h3 style='color:#008000'>Integrais indefinidas - Exemplos:</h3>"
   ]
  },
  {
   "cell_type": "markdown",
   "id": "14932eec-e598-42b6-b8db-90fb13c36cff",
   "metadata": {},
   "source": [
    "Calculando as integrais indefinidas $I_{a}$, $I_{b}$ e $I_{c}$ utilizando a função <b><b style='color:#098ba7'>sp</b>.integrate</b>:\n",
    "\n",
    "$$I_a = \\int \\frac{x^3}{\\sqrt{1-x^2}}dx, \\: I_{b} = \\int e^{2x}\\textrm{sen}(x)dx, \\: I_{c} = \\int \\textrm{sen}\\left [ \\textrm{ln}(x) \\right ]dx$$"
   ]
  },
  {
   "cell_type": "markdown",
   "id": "7ba1f246-0f54-489e-8135-be51be13e06c",
   "metadata": {},
   "source": [
    "<hr>"
   ]
  },
  {
   "cell_type": "markdown",
   "id": "51d942ba-9710-4998-839d-4372e0ce990b",
   "metadata": {},
   "source": [
    "<h4 style='color:#7f7f7f' >Integral $I_a$:</h4>\n",
    "$$ I_a = \\int \\frac{x^3}{\\sqrt{1-x^2}}dx$$"
   ]
  },
  {
   "cell_type": "markdown",
   "id": "250549a8-09a3-4391-98f4-e4a4cf4f8187",
   "metadata": {},
   "source": [
    "Declarando integrando $f_a=\\frac{x^3}{\\sqrt{1-x^2}}$:"
   ]
  },
  {
   "cell_type": "code",
   "execution_count": 13,
   "id": "de3b945d-9f2b-4ae9-9950-149d1f849806",
   "metadata": {},
   "outputs": [
    {
     "data": {
      "text/latex": [
       "$\\displaystyle \\frac{x^{3}}{\\sqrt{1 - x^{2}}}$"
      ],
      "text/plain": [
       "x**3/sqrt(1 - x**2)"
      ]
     },
     "execution_count": 13,
     "metadata": {},
     "output_type": "execute_result"
    }
   ],
   "source": [
    "fa = x**3/sp.sqrt(1-x**2) \n",
    "fa"
   ]
  },
  {
   "cell_type": "markdown",
   "id": "76d4f228-d380-45f0-b4ce-915bf5abeaa9",
   "metadata": {},
   "source": [
    "Calculando a integral indefinida $I_a = \\int f_a dx$:"
   ]
  },
  {
   "cell_type": "code",
   "execution_count": 16,
   "id": "e5300f3b-43db-4ac7-a3de-d627323dd1f4",
   "metadata": {},
   "outputs": [
    {
     "data": {
      "text/latex": [
       "$\\displaystyle C - \\frac{x^{2} \\sqrt{1 - x^{2}}}{3} - \\frac{2 \\sqrt{1 - x^{2}}}{3}$"
      ],
      "text/plain": [
       "C - x**2*sqrt(1 - x**2)/3 - 2*sqrt(1 - x**2)/3"
      ]
     },
     "execution_count": 16,
     "metadata": {},
     "output_type": "execute_result"
    }
   ],
   "source": [
    "Ia = sp.integrate( fa , x ) + c\n",
    "Ia"
   ]
  },
  {
   "cell_type": "markdown",
   "id": "d1b52ca7-3b4f-4271-a386-eaa497278845",
   "metadata": {},
   "source": [
    "<hr>"
   ]
  },
  {
   "cell_type": "markdown",
   "id": "8b6c3c48-b688-4f0c-9530-982925a1ed39",
   "metadata": {},
   "source": [
    "<h4 style='color:#7f7f7f' >Integral $I_b$:</h4>\n",
    "$$  I_{b} = \\int e^{2x}\\textrm{sen}(x)dx $$"
   ]
  },
  {
   "cell_type": "markdown",
   "id": "e1e6455e-4fc5-4c7a-9057-6dcc7857976b",
   "metadata": {},
   "source": [
    "Declarando integrando $f_b=e^{2x}\\textrm{sen}(x)$:"
   ]
  },
  {
   "cell_type": "code",
   "execution_count": 14,
   "id": "22624647-de63-45da-a752-127a47a7829c",
   "metadata": {},
   "outputs": [
    {
     "data": {
      "text/latex": [
       "$\\displaystyle e^{2 x} \\sin{\\left(x \\right)}$"
      ],
      "text/plain": [
       "exp(2*x)*sin(x)"
      ]
     },
     "execution_count": 14,
     "metadata": {},
     "output_type": "execute_result"
    }
   ],
   "source": [
    "fb = sp.exp(2*x)*sp.sin(x)\n",
    "fb"
   ]
  },
  {
   "cell_type": "markdown",
   "id": "56efc916-0857-4cc4-a767-54f3dffb5f55",
   "metadata": {},
   "source": [
    "Calculando a integral indefinida $I_b = \\int f_b dx$:"
   ]
  },
  {
   "cell_type": "code",
   "execution_count": 17,
   "id": "0f8686e0-a501-445e-90d4-23645c953cd2",
   "metadata": {},
   "outputs": [
    {
     "data": {
      "text/latex": [
       "$\\displaystyle C + \\frac{2 e^{2 x} \\sin{\\left(x \\right)}}{5} - \\frac{e^{2 x} \\cos{\\left(x \\right)}}{5}$"
      ],
      "text/plain": [
       "C + 2*exp(2*x)*sin(x)/5 - exp(2*x)*cos(x)/5"
      ]
     },
     "execution_count": 17,
     "metadata": {},
     "output_type": "execute_result"
    }
   ],
   "source": [
    "Ib = sp.integrate( fb , x ) + c\n",
    "Ib"
   ]
  },
  {
   "cell_type": "markdown",
   "id": "dada64ef-5eef-46e4-a71d-4b541e0d9555",
   "metadata": {},
   "source": [
    "<hr>"
   ]
  },
  {
   "cell_type": "markdown",
   "id": "70cd09cd-7b82-46c6-8615-35954c6d8055",
   "metadata": {},
   "source": [
    "<h4 style='color:#7f7f7f' >Integral $I_c$:</h4>\n",
    "$$ I_{c} = \\int \\textrm{sen}\\left [ \\textrm{ln}(x) \\right ]dx$$"
   ]
  },
  {
   "cell_type": "markdown",
   "id": "58856f9d-e410-4de9-b65e-fbf1fa521f71",
   "metadata": {},
   "source": [
    "Declarando integrando $f_c=\\textrm{sen}\\left [ \\textrm{ln}(x) \\right ]$:"
   ]
  },
  {
   "cell_type": "code",
   "execution_count": 15,
   "id": "4e32fb7a-8af5-490e-b635-5e95be86f1ab",
   "metadata": {},
   "outputs": [
    {
     "data": {
      "text/latex": [
       "$\\displaystyle \\sin{\\left(\\log{\\left(x \\right)} \\right)}$"
      ],
      "text/plain": [
       "sin(log(x))"
      ]
     },
     "execution_count": 15,
     "metadata": {},
     "output_type": "execute_result"
    }
   ],
   "source": [
    "fc = sp.sin(sp.log(x))\n",
    "fc"
   ]
  },
  {
   "cell_type": "markdown",
   "id": "7a489a98-3cac-4f52-8dac-d78f1ccdc723",
   "metadata": {},
   "source": [
    "Calculando integral indefinida $I_{c} = \\int f_c dx$:"
   ]
  },
  {
   "cell_type": "code",
   "execution_count": 18,
   "id": "cf58e2e8-d3b1-46d5-918c-6603b4be651b",
   "metadata": {},
   "outputs": [
    {
     "data": {
      "text/latex": [
       "$\\displaystyle C + \\frac{x \\sin{\\left(\\log{\\left(x \\right)} \\right)}}{2} - \\frac{x \\cos{\\left(\\log{\\left(x \\right)} \\right)}}{2}$"
      ],
      "text/plain": [
       "C + x*sin(log(x))/2 - x*cos(log(x))/2"
      ]
     },
     "execution_count": 18,
     "metadata": {},
     "output_type": "execute_result"
    }
   ],
   "source": [
    "Ic = sp.integrate( fc , x ) + c\n",
    "Ic"
   ]
  },
  {
   "cell_type": "markdown",
   "id": "3b49fd79-fdba-426a-b23a-9aa04ef7972a",
   "metadata": {},
   "source": [
    "<h3 style='color:#008000'>Integrais definidas - Exemplos:</h3>\n",
    "Calculando as integrais definidas $I_{d}$, $I_{e}$ e $I_{f}$ utilizando a função <b><b style='color:#098ba7'>sp</b>.integrate</b>:"
   ]
  },
  {
   "cell_type": "markdown",
   "id": "116dea08-ca67-49d0-bba5-c0c8bbee9215",
   "metadata": {},
   "source": [
    "$$I_d = \\int_{-3}^{4}\\left| x+2 \\right|dx, \\: I_e = \\int_{0}^{\\frac{\\pi}{2}}\\textrm{sen}(x)dx, \\: I_f=\\int_{1}^{2}\\textrm{ln(x)}dx$$"
   ]
  },
  {
   "cell_type": "markdown",
   "id": "d033e121-7224-40a3-9426-fef8e04e12f3",
   "metadata": {},
   "source": [
    "<hr>"
   ]
  },
  {
   "cell_type": "markdown",
   "id": "03d26df6-ae72-414c-a53e-6e97a04476f4",
   "metadata": {},
   "source": [
    "<h4 style='color:#7f7f7f' >Integral $I_d$:</h4>\n",
    "$$ I_d = \\int_{-3}^{4}\\left| x+2 \\right|dx = \\frac{37}{2}$$"
   ]
  },
  {
   "cell_type": "markdown",
   "id": "de26ce8d-ad29-4720-81f2-36f6b2887c30",
   "metadata": {},
   "source": [
    "Declarando integrando     $ f_{d}= \\left| x+2 \\right|$:"
   ]
  },
  {
   "cell_type": "code",
   "execution_count": 19,
   "id": "37b717ae-d5f8-4ced-900b-11cad29e05ed",
   "metadata": {},
   "outputs": [
    {
     "data": {
      "text/latex": [
       "$\\displaystyle \\left|{x + 2}\\right|$"
      ],
      "text/plain": [
       "Abs(x + 2)"
      ]
     },
     "execution_count": 19,
     "metadata": {},
     "output_type": "execute_result"
    }
   ],
   "source": [
    "fd = sp.Abs(x+2)\n",
    "fd"
   ]
  },
  {
   "cell_type": "markdown",
   "id": "8a0c55f8-3a88-4c3c-8e8b-360b52607c21",
   "metadata": {},
   "source": [
    "Calculando a integral definida $I_d = \\int_{-3}^{4}f_d dx$:"
   ]
  },
  {
   "cell_type": "code",
   "execution_count": 20,
   "id": "45e08b60-9058-4501-8cf0-0fb56dc04460",
   "metadata": {},
   "outputs": [
    {
     "data": {
      "text/latex": [
       "$\\displaystyle \\frac{37}{2}$"
      ],
      "text/plain": [
       "37/2"
      ]
     },
     "execution_count": 20,
     "metadata": {},
     "output_type": "execute_result"
    }
   ],
   "source": [
    "Id = sp.integrate( fd , (x , -3 , 4 ) )\n",
    "Id"
   ]
  },
  {
   "cell_type": "markdown",
   "id": "3e59e730-ff6f-4788-ba45-54f02edce4b9",
   "metadata": {},
   "source": [
    "<hr>"
   ]
  },
  {
   "cell_type": "markdown",
   "id": "59de8f56-27b7-49c2-8b81-ec401d12a3d7",
   "metadata": {},
   "source": [
    "<h4 style='color:#7f7f7f' >Integral $I_e$:</h4>"
   ]
  },
  {
   "cell_type": "markdown",
   "id": "a8bd07f6-69e2-4236-956a-35865e885d79",
   "metadata": {},
   "source": [
    "$$I_e = \\int_{0}^{\\frac{\\pi}{2}}\\textrm{sen}(x)dx = 1$$"
   ]
  },
  {
   "cell_type": "markdown",
   "id": "a0461c36-f015-4325-aebe-a8777f389735",
   "metadata": {},
   "source": [
    "Declarando integrando   $ f_{e}= \\textrm{sen}(x)$:"
   ]
  },
  {
   "cell_type": "code",
   "execution_count": 21,
   "id": "a19f5d8c-8b6c-44f3-90f0-85d879e393d0",
   "metadata": {},
   "outputs": [
    {
     "data": {
      "text/latex": [
       "$\\displaystyle \\sin{\\left(x \\right)}$"
      ],
      "text/plain": [
       "sin(x)"
      ]
     },
     "execution_count": 21,
     "metadata": {},
     "output_type": "execute_result"
    }
   ],
   "source": [
    "fe = sp.sin(x)\n",
    "fe"
   ]
  },
  {
   "cell_type": "markdown",
   "id": "04a81b14-c75f-46a3-a531-33a6f5760c29",
   "metadata": {},
   "source": [
    "Calculando a integral definida $I_d = \\int_{0}^{\\frac{\\pi}{2}}f_e dx$:"
   ]
  },
  {
   "cell_type": "code",
   "execution_count": 22,
   "id": "6e40daff-f336-41d1-b5a4-aeac985d027f",
   "metadata": {},
   "outputs": [
    {
     "data": {
      "text/latex": [
       "$\\displaystyle 1$"
      ],
      "text/plain": [
       "1"
      ]
     },
     "execution_count": 22,
     "metadata": {},
     "output_type": "execute_result"
    }
   ],
   "source": [
    "Ie = sp.integrate( fe , (x , 0 , sp.pi/2 ) )\n",
    "Ie"
   ]
  },
  {
   "cell_type": "markdown",
   "id": "dc93a36a-a26d-4f8d-9fed-e982cb2e9448",
   "metadata": {},
   "source": [
    "<hr>"
   ]
  },
  {
   "cell_type": "markdown",
   "id": "60d921e4-eb31-4eab-9f92-1ddfccd63603",
   "metadata": {},
   "source": [
    "<h4 style='color:#7f7f7f' >Integral $I_f$:</h4>\n",
    "\n",
    "$$ I_f=\\int_{1}^{2}\\textrm{ln(x)}dx = -1+2\\textrm{log}(2) $$"
   ]
  },
  {
   "cell_type": "markdown",
   "id": "20c23902-2c7a-441b-8acc-052e52c0d72c",
   "metadata": {},
   "source": [
    "Declarando integrando     $ f_{f}= \\textrm{ln}(x)$:"
   ]
  },
  {
   "cell_type": "code",
   "execution_count": 23,
   "id": "b2f7bf17-edda-49cd-acdb-061325aeb608",
   "metadata": {},
   "outputs": [
    {
     "data": {
      "text/latex": [
       "$\\displaystyle \\log{\\left(x \\right)}$"
      ],
      "text/plain": [
       "log(x)"
      ]
     },
     "execution_count": 23,
     "metadata": {},
     "output_type": "execute_result"
    }
   ],
   "source": [
    "ff = sp.log(x)\n",
    "ff"
   ]
  },
  {
   "cell_type": "markdown",
   "id": "79de1754-837c-416e-9c35-54a5ce5ae877",
   "metadata": {},
   "source": [
    "Calculando a integral definida $ I_f=\\int_{1}^{2}f_f dx $:"
   ]
  },
  {
   "cell_type": "code",
   "execution_count": 24,
   "id": "8bbc879f-0c17-418c-ae55-ffa5e726b0ce",
   "metadata": {},
   "outputs": [
    {
     "data": {
      "text/latex": [
       "$\\displaystyle -1 + 2 \\log{\\left(2 \\right)}$"
      ],
      "text/plain": [
       "-1 + 2*log(2)"
      ]
     },
     "execution_count": 24,
     "metadata": {},
     "output_type": "execute_result"
    }
   ],
   "source": [
    "If = sp.integrate( ff , (x , 1 , 2 ) )\n",
    "If"
   ]
  },
  {
   "cell_type": "markdown",
   "id": "9ec15051-f497-4046-b509-5b340abc285e",
   "metadata": {},
   "source": [
    "<b>Em particular</b> para obter o valor numérico de $I_f$:"
   ]
  },
  {
   "cell_type": "code",
   "execution_count": 25,
   "id": "c7d412b6-6181-4597-b803-399b1a85ba67",
   "metadata": {},
   "outputs": [
    {
     "data": {
      "text/latex": [
       "$\\displaystyle 0.386294361119891$"
      ],
      "text/plain": [
       "0.386294361119891"
      ]
     },
     "execution_count": 25,
     "metadata": {},
     "output_type": "execute_result"
    }
   ],
   "source": [
    "ff = sp.log(x*1.0)\n",
    "If = sp.integrate( ff , (x , 1 , 2 ) )\n",
    "If"
   ]
  },
  {
   "cell_type": "markdown",
   "id": "2737a0df-3e50-48cc-9555-5712791e8182",
   "metadata": {},
   "source": [
    "<h3 style='color:#0000ff'>8. Integrais definidas - Problema</h3>"
   ]
  },
  {
   "cell_type": "markdown",
   "id": "69516e6f-f046-49a5-8bdf-509bb1ea47f2",
   "metadata": {},
   "source": []
  },
  {
   "cell_type": "markdown",
   "id": "954e5a5d-5bde-44ef-b3b4-27a4a5be0b0f",
   "metadata": {},
   "source": [
    "<h3 style='color:#7f7f7f'>Resolução (a)</h3>"
   ]
  },
  {
   "cell_type": "markdown",
   "id": "303be992-36c3-4dc4-8d83-f95e6e6c99aa",
   "metadata": {},
   "source": [
    "Declarando a variável $t$:"
   ]
  },
  {
   "cell_type": "code",
   "execution_count": 26,
   "id": "c14488a5-1c11-4e10-96be-fc1408e8549e",
   "metadata": {},
   "outputs": [],
   "source": [
    "t = sp.Symbol('t')"
   ]
  },
  {
   "cell_type": "markdown",
   "id": "e21e89b5-8ed6-41ad-8da1-31e2d1887da8",
   "metadata": {},
   "source": [
    "Declarando equações para $E(t)$ e $C(t)$:"
   ]
  },
  {
   "cell_type": "code",
   "execution_count": 27,
   "id": "d11893cd-8c27-4aa8-a01a-e1fa90da2837",
   "metadata": {},
   "outputs": [],
   "source": [
    "E = 2*t**2 \n",
    "C = 9 + t**2"
   ]
  },
  {
   "cell_type": "markdown",
   "id": "d62998e5-06fd-4cae-894e-8c2c45421619",
   "metadata": {
    "tags": []
   },
   "source": [
    "Resolvendo $E(t)=C(t)$"
   ]
  },
  {
   "cell_type": "code",
   "execution_count": 28,
   "id": "b226921b-2c1e-4e37-b882-eef9cbee21c7",
   "metadata": {},
   "outputs": [
    {
     "data": {
      "text/plain": [
       "[-3, 3]"
      ]
     },
     "execution_count": 28,
     "metadata": {},
     "output_type": "execute_result"
    }
   ],
   "source": [
    "res = sp.solve( E-C , t )\n",
    "res"
   ]
  },
  {
   "cell_type": "markdown",
   "id": "cacbad96-8a2d-4983-adec-3808abac754e",
   "metadata": {},
   "source": [
    "Logo, o momento em que teremos a mesma taxa de emissão das partículas é no instante $t=3$ segundos."
   ]
  },
  {
   "cell_type": "markdown",
   "id": "10cced39-f856-4ef9-b08c-f2b2dbeb0afe",
   "metadata": {},
   "source": [
    "<h3 style='color:#7f7f7f'>Resolução (b)</h3>"
   ]
  },
  {
   "cell_type": "markdown",
   "id": "6ff9d708-9cfa-4c3e-a077-28ca80e55f49",
   "metadata": {},
   "source": [
    "Vamos representar graficamente $E(t)$ e $C(t)$ utilizando <b><b style='color:#098ba7'>sp</b>.plot_implicit </b>. Seja $\\textrm{Em}$ a taxa de emissão:"
   ]
  },
  {
   "cell_type": "code",
   "execution_count": 29,
   "id": "65f4592a-5440-428a-85de-4f4bf0113648",
   "metadata": {},
   "outputs": [],
   "source": [
    "Em = sp.Symbol('Em')"
   ]
  },
  {
   "cell_type": "markdown",
   "id": "91f4a89e-4d71-45f2-8a43-d70fbc0e2865",
   "metadata": {},
   "source": [
    "Declarando as equações $E(t)$ e $C(t)$"
   ]
  },
  {
   "cell_type": "code",
   "execution_count": 30,
   "id": "2410ec01-3ea6-444b-8e98-664d1e5a1898",
   "metadata": {},
   "outputs": [
    {
     "data": {
      "text/latex": [
       "$\\displaystyle Em = 2 t^{2}$"
      ],
      "text/plain": [
       "Eq(Em, 2*t**2)"
      ]
     },
     "execution_count": 30,
     "metadata": {},
     "output_type": "execute_result"
    }
   ],
   "source": [
    "Eeq = sp.Eq(Em,E)\n",
    "Eeq"
   ]
  },
  {
   "cell_type": "code",
   "execution_count": 31,
   "id": "d959ce34-34c3-4488-a02c-a04a90e59564",
   "metadata": {},
   "outputs": [
    {
     "data": {
      "text/latex": [
       "$\\displaystyle Em = t^{2} + 9$"
      ],
      "text/plain": [
       "Eq(Em, t**2 + 9)"
      ]
     },
     "execution_count": 31,
     "metadata": {},
     "output_type": "execute_result"
    }
   ],
   "source": [
    "Ceq = sp.Eq(Em,C)\n",
    "Ceq"
   ]
  },
  {
   "cell_type": "markdown",
   "id": "7f8caefd-c32f-4bb4-9ee8-256aeec3ab04",
   "metadata": {},
   "source": [
    "Representando graficamente as curvas $E(t)$ e $C(t)$:"
   ]
  },
  {
   "cell_type": "code",
   "execution_count": 32,
   "id": "dd025a88-7206-4747-b06b-ad2f2f80913f",
   "metadata": {},
   "outputs": [
    {
     "data": {
      "image/png": "[encoded data removed]",
      "text/plain": [
       "<Figure size 432x288 with 1 Axes>"
      ]
     },
     "metadata": {
      "needs_background": "light"
     },
     "output_type": "display_data"
    }
   ],
   "source": [
    "plotE = sp.plot_implicit( Eeq , (t,0,10) , (Em,0,40) , adaptive=False , show=False , line_color='r')\n",
    "plotC = sp.plot_implicit( Ceq , (t,0,10) , (Em,0,40) , adaptive=False , show=False , line_color='b')\n",
    "plotE.append(plotC[0])\n",
    "plotE.show()"
   ]
  },
  {
   "cell_type": "markdown",
   "id": "487613ac-27e8-4209-9c78-9e1be66c1107",
   "metadata": {},
   "source": [
    "A redução das emissões é representada pela área abaixo de $C(t)$ e acima de $E(t)$. Representando essa região:"
   ]
  },
  {
   "cell_type": "code",
   "execution_count": 33,
   "id": "52f2e36a-4869-4a43-83dd-fc369e6991ed",
   "metadata": {},
   "outputs": [
    {
     "data": {
      "image/png": "[encoded data removed]",
      "text/plain": [
       "<Figure size 432x288 with 1 Axes>"
      ]
     },
     "metadata": {
      "needs_background": "light"
     },
     "output_type": "display_data"
    }
   ],
   "source": [
    "plotArea = sp.plot_implicit( sp.And( Em < C, Em > E ) , (t,0,10) , (Em,0,40) , line_color='gray' , show = False )\n",
    "plotE.append(plotArea[0])\n",
    "plotE.show()"
   ]
  },
  {
   "cell_type": "markdown",
   "id": "7b31f6a9-aaae-4853-8d5b-bb35a494698f",
   "metadata": {},
   "source": [
    "Calculando a área da região sombreada:"
   ]
  },
  {
   "cell_type": "code",
   "execution_count": 34,
   "id": "f291cca7-edb1-4963-a79b-1b68675b7a9e",
   "metadata": {},
   "outputs": [
    {
     "data": {
      "text/latex": [
       "$\\displaystyle 18$"
      ],
      "text/plain": [
       "18"
      ]
     },
     "execution_count": 34,
     "metadata": {},
     "output_type": "execute_result"
    }
   ],
   "source": [
    "Area = sp.integrate( C , ( t , 0 , 3 ) ) - sp.integrate( E , ( t , 0 , 3 ) )\n",
    "Area"
   ]
  },
  {
   "cell_type": "markdown",
   "id": "8dfcca5e-7613-48da-bdea-5f1efda1fdc9",
   "metadata": {},
   "source": [
    "Portanto, <b>18 bilhões</b> de partículas de poluição são reduzidas em três anos."
   ]
  },
  {
   "cell_type": "markdown",
   "id": "3c1bc890-1c83-4a96-aca0-0c9ea481c26f",
   "metadata": {},
   "source": [
    "<h1 style='color:#b50000'>Integrais duplas com Sympy</h1>"
   ]
  },
  {
   "cell_type": "markdown",
   "id": "e991ff95-a93b-4e5b-9e12-582889c5beb1",
   "metadata": {},
   "source": [
    "A fim de exemplificar o uso do Sympy para calcular integrais duplas, vamos calcular a área entre as curvas $f$ e $g$ da seção anterior:\n",
    "\n",
    "$$ f: 4x-x^2, \\: g:x^2-2x$$"
   ]
  },
  {
   "cell_type": "markdown",
   "id": "567ab8d6-5fe3-4690-a86e-4736950f20c3",
   "metadata": {},
   "source": [
    "<h3 style='color:#0000ff'>1. Funções e variáveis</h3>"
   ]
  },
  {
   "cell_type": "markdown",
   "id": "49e86e0c-325b-4ff8-b896-0da2363a5c93",
   "metadata": {},
   "source": [
    "Carregando a biblioteca Sympy (como <b style='color:#098ba7'>sp</b>):"
   ]
  },
  {
   "cell_type": "code",
   "execution_count": 35,
   "id": "a40eadec-83f5-40ac-a8ca-651dc01908ed",
   "metadata": {},
   "outputs": [],
   "source": [
    "import sympy as sp"
   ]
  },
  {
   "cell_type": "markdown",
   "id": "067420d6-8a57-4181-9228-99f74b7ddbfd",
   "metadata": {},
   "source": [
    "Declarando variáveis (comando: <b><b style='color:#098ba7'>sp</b>.symbols</b>):"
   ]
  },
  {
   "cell_type": "code",
   "execution_count": 36,
   "id": "51ae21b4-0477-4222-87dd-d7ab19bf2c78",
   "metadata": {},
   "outputs": [],
   "source": [
    "x, y = sp.symbols('x y')"
   ]
  },
  {
   "cell_type": "markdown",
   "id": "11eca54c-0ce9-4445-9271-1d622fbbe3e9",
   "metadata": {},
   "source": [
    "Declarando expressões de $f$ e $g$ :"
   ]
  },
  {
   "cell_type": "code",
   "execution_count": 37,
   "id": "1b3a12b0-878d-4543-bcd4-5b5d4649cbcb",
   "metadata": {},
   "outputs": [
    {
     "data": {
      "text/latex": [
       "$\\displaystyle - x^{2} + 4 x$"
      ],
      "text/plain": [
       "-x**2 + 4*x"
      ]
     },
     "execution_count": 37,
     "metadata": {},
     "output_type": "execute_result"
    }
   ],
   "source": [
    "f = - x**2 + 4*x \n",
    "f"
   ]
  },
  {
   "cell_type": "code",
   "execution_count": 38,
   "id": "8ab26a7f-f09c-4c51-8515-e331991d7c28",
   "metadata": {},
   "outputs": [
    {
     "data": {
      "text/latex": [
       "$\\displaystyle x^{2} - 2 x$"
      ],
      "text/plain": [
       "x**2 - 2*x"
      ]
     },
     "execution_count": 38,
     "metadata": {},
     "output_type": "execute_result"
    }
   ],
   "source": [
    "g = - 2*x + x**2 \n",
    "g"
   ]
  },
  {
   "cell_type": "markdown",
   "id": "e79aa4da-331c-49f0-9323-48cb03044f25",
   "metadata": {},
   "source": [
    "<h3 style='color:#0000ff'>2. Integração dupla</h3>"
   ]
  },
  {
   "cell_type": "markdown",
   "id": "49bf00a2-dda6-4ac6-bd12-9b7e77ae6090",
   "metadata": {},
   "source": [
    "Nesta etapa, vamos calcular a área abaixo de $f$ e acima de $g$ utilizando integral dupla (comando: <b><b style='color:#098ba7'>sp</b>.integrate</b>). <br> Matemáticamente:\n",
    "\n",
    "$$  \\int_{0}^{3}(4x-x^2)dx-\\int_{0}^{3}(x^2-2x)dx = \\int_{0}^{3}\\int_{x^2-2x}^{4x-x^2}dydx = 9 $$\n",
    "\n",
    "De modo equivalente, em <b>Python</b>:"
   ]
  },
  {
   "cell_type": "code",
   "execution_count": 39,
   "id": "046bda5b-ae1b-41c7-8a58-0700dd8a8942",
   "metadata": {},
   "outputs": [
    {
     "data": {
      "text/latex": [
       "$\\displaystyle 9$"
      ],
      "text/plain": [
       "9"
      ]
     },
     "execution_count": 39,
     "metadata": {},
     "output_type": "execute_result"
    }
   ],
   "source": [
    "Ad = sp.integrate( 1 , ( y , g , f ) , ( x , 0 , 3 ) )\n",
    "Ad"
   ]
  }
 ],
 "metadata": {
  "kernelspec": {
   "display_name": "Python 3 (ipykernel)",
   "language": "python",
   "name": "python3"
  },
  "language_info": {
   "codemirror_mode": {
    "name": "ipython",
    "version": 3
   },
   "file_extension": ".py",
   "mimetype": "text/x-python",
   "name": "python",
   "nbconvert_exporter": "python",
   "pygments_lexer": "ipython3",
   "version": "3.10.2"
  }
 },
 "nbformat": 4,
 "nbformat_minor": 5
}
