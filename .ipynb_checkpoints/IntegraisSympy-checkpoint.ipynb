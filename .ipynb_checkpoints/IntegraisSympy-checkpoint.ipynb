{
 "cells": [
  {
   "cell_type": "markdown",
   "id": "66b5a5c6-b433-4b2a-a39d-5576231fe9e8",
   "metadata": {
    "tags": []
   },
   "source": [
    "<h1 style='color:#b50000'> Integrais de funções reais com Sympy</h1>\n",
    "\n",
    "<h2 style='color:#0000ff'>1 &nbsp; Questão Norteadora</h2>"
   ]
  },
  {
   "cell_type": "markdown",
   "id": "4eed1e0b-f90a-4e41-a8b5-f0deedf12715",
   "metadata": {},
   "source": [
    "<b style='color:#b50000'>Adaptado de:</b><b> Aplicações do cálculo diferencial e integral: temperatura, calor e dilatação térmica.</b> Autor: Freitas, Roseli Scaranello de Paula. Página 54 e 55. Disponível em <http://hdl.handle.net/11449/214512>."
   ]
  },
  {
   "cell_type": "markdown",
   "id": "8199ba8d-3b88-4b0c-a77e-144c11813488",
   "metadata": {},
   "source": [
    "&nbsp; Sabemos que a queima de combustíveis fósseis gera a poluição\n",
    "atmosférica que é o grande vilão do aquecimento global, com isso, um pesquisador\n",
    "universitário se preocupando com o meio ambiente, desenvolveu um motor de carro\n",
    "que se acredita atender a todos os padrões estaduais de controle de emissões. A\n",
    "nova taxa de emissão do motor é dada por:\n",
    "\n",
    "$$ E(t)=2t^2 $$\n",
    "\n",
    "onde estão as emissões, em bilhões de poluição partículas por ano, no tempo t, em\n",
    "anos. A emissão da taxa de um motor convencional é dada por:\n",
    "\n",
    "$$ C(t) = 9 + t^2$$\n",
    "\n",
    "<b> Responda: </b>\n",
    "\n",
    "a) Em que momento teremos a mesma taxa de emissão das partículas?<br>\n",
    "b) Qual a redução nas emissões no resultado do uso do motor do pesquisador?\n",
    "<hr>"
   ]
  },
  {
   "cell_type": "markdown",
   "id": "74dcad0f-ddd4-473c-83d7-00c549ad1f0f",
   "metadata": {},
   "source": [
    "<h2 style='color:#0000ff'>2 &nbsp; Carregando a biblioteca Sympy</h2>\n"
   ]
  },
  {
   "cell_type": "markdown",
   "id": "c8aeeb32-fe61-48ae-94fa-baea4d9a579c",
   "metadata": {},
   "source": [
    "&nbsp; Existem quatro formas principais de carregar a biblioteca Sympy:\n",
    "\n",
    "<center><b>Formas de carregar e acessar funções do Sympy</b></center>\n",
    "\n",
    "| Modo de carregar | Acesso à &lt; nome_da_função&gt; | Exemplo |\n",
    "| --- | --- | --- |\n",
    "| <b>import</b> sympy | sympy.&lt; nome_da_função&gt;( ) | sympy.cos(1.) |\n",
    "| <b>import</b> sympy <b>as</b> sp | sp.&lt; nome_da_função&gt;( ) | sp.cos(1.) |\n",
    "| <b>from</b> sympy <b>import</b> sin,cos,tan | &lt; nome_da_função&gt;( ) | cos(1.) |\n",
    "| <b>from</b> sympy <b>import</b> * | &lt; nome_da_função&gt;( ) | cos(1.) |\n",
    "\n",
    "<center>Fonte: O autor</center>\n",
    "\n",
    "\n",
    "<br>\n",
    "&nbsp; Vamos utilizar o último modo de carregar o Sympy apresentado na tabela anterior, que carrega todas as funções dessa biblioteca:"
   ]
  },
  {
   "cell_type": "code",
   "execution_count": 45,
   "id": "a4eee6b6-901a-45c7-adb9-87374eb6a37c",
   "metadata": {},
   "outputs": [],
   "source": [
    "from sympy import *"
   ]
  },
  {
   "cell_type": "markdown",
   "id": "18ed3bfb-fb03-4afd-bc4b-5d2ba55dc65f",
   "metadata": {},
   "source": [
    "&nbsp; Uma vez que importamos o Sympy, não é necessário carregar essa biblioteca novamente nesta seção.\n",
    "<hr>"
   ]
  },
  {
   "cell_type": "markdown",
   "id": "959fb7e7-3887-4374-b5ad-d26a8c6f5a48",
   "metadata": {},
   "source": [
    "<h2 style='color:#0000ff'>3 &nbsp; Variáveis simbólicas </h2>"
   ]
  },
  {
   "cell_type": "markdown",
   "id": "a5c17fd0-5ae9-4653-8d12-d9cfe994ded8",
   "metadata": {},
   "source": [
    "&nbsp; Para declarar <b>uma</b> variável simbólica, podemos utilizar a função <b>symbols</b> ou  <b>Symbol</b>."
   ]
  },
  {
   "cell_type": "code",
   "execution_count": 46,
   "id": "ba048ce8-40af-4890-9ed6-344d91aa8b77",
   "metadata": {},
   "outputs": [
    {
     "data": {
      "text/latex": [
       "$\\displaystyle t$"
      ],
      "text/plain": [
       "t"
      ]
     },
     "execution_count": 46,
     "metadata": {},
     "output_type": "execute_result"
    }
   ],
   "source": [
    "t = symbols('t')\n",
    "#ou \n",
    "t = Symbol('t')\n",
    "t"
   ]
  },
  {
   "cell_type": "markdown",
   "id": "ab39267a-9e03-443f-9b01-e51f084700c8",
   "metadata": {},
   "source": [
    "&nbsp; Para declarar <b>várias</b> variáveis simbólicas simultaneamente, utilizamos a função <b>symbols</b>."
   ]
  },
  {
   "cell_type": "code",
   "execution_count": 47,
   "id": "a59f7474-661b-49d8-b1db-31e1bcb52c32",
   "metadata": {},
   "outputs": [
    {
     "data": {
      "text/plain": [
       "(x, y)"
      ]
     },
     "execution_count": 47,
     "metadata": {},
     "output_type": "execute_result"
    }
   ],
   "source": [
    "x , y = symbols('x y')\n",
    "x , y"
   ]
  },
  {
   "cell_type": "markdown",
   "id": "02da5663-bfb0-46dc-8eed-6dd59f26a8ed",
   "metadata": {},
   "source": [
    "<hr>"
   ]
  },
  {
   "cell_type": "markdown",
   "id": "9a32bfb4-1b1b-447c-95a9-7ee287261578",
   "metadata": {},
   "source": [
    "<h2 style='color:#0000ff'>4 &nbsp; Funções de variáveis simbólicas</h2>"
   ]
  },
  {
   "cell_type": "markdown",
   "id": "bbd6fa84-89e9-4abb-98a6-d5a308c23586",
   "metadata": {},
   "source": [
    "&nbsp; Existem várias formas de declarar uma função simbólica em Python. Uma delas possui ampla aplicabilidade em outras funções Sympy, essa maneira de definir uma função consiste simplesmente em atribuir uma função à uma variável. Por exemplo, seja $f$ uma função real definida por:\n",
    "$$ f(x)=4x-x^2.$$\n",
    "&nbsp; Para definir $f$ em Python, basta escrever:"
   ]
  },
  {
   "cell_type": "code",
   "execution_count": 61,
   "id": "483faa2c-2e02-4772-bf3d-d6f469d9f23b",
   "metadata": {},
   "outputs": [
    {
     "data": {
      "text/latex": [
       "$\\displaystyle - x^{2} + 4 x$"
      ],
      "text/plain": [
       "-x**2 + 4*x"
      ]
     },
     "execution_count": 61,
     "metadata": {},
     "output_type": "execute_result"
    }
   ],
   "source": [
    "f = 4*x-x**2\n",
    "f"
   ]
  },
  {
   "cell_type": "markdown",
   "id": "8066de1f-c23c-4681-848e-e101bd9977c9",
   "metadata": {},
   "source": [
    "&nbsp; <b>Observação:</b> A biblioteca Sympy e a variável $x$ foram declaradas em comandos anteriores."
   ]
  },
  {
   "cell_type": "markdown",
   "id": "126dd2eb-1dc3-4221-9088-d39b1116fee1",
   "metadata": {},
   "source": [
    "&nbsp; Para calcular obter o valor da função num ponto, basta utilizar a função <b>subs</b>. Por exemplo, para obter $f(1)$, basta escrever:"
   ]
  },
  {
   "cell_type": "code",
   "execution_count": 62,
   "id": "74f34163-756b-4a53-9ff3-7003d3fa5ac2",
   "metadata": {},
   "outputs": [
    {
     "data": {
      "text/latex": [
       "$\\displaystyle 3$"
      ],
      "text/plain": [
       "3"
      ]
     },
     "execution_count": 62,
     "metadata": {},
     "output_type": "execute_result"
    }
   ],
   "source": [
    "f.subs(x,1)"
   ]
  },
  {
   "cell_type": "markdown",
   "id": "277afff0-6ab4-472a-8575-74f9ea2b9a8c",
   "metadata": {},
   "source": [
    "&nbsp; Neste momento, vamos considerar a função real $g$ definida por: \n",
    "$$ g(x,y) = 1-x^2-y^2 $$"
   ]
  },
  {
   "cell_type": "markdown",
   "id": "05c6aa41-30c9-4686-abcf-206bf12a2446",
   "metadata": {},
   "source": [
    "&nbsp; Definindo $g$ em Python:"
   ]
  },
  {
   "cell_type": "code",
   "execution_count": 51,
   "id": "280dc830-1ea8-4027-be78-a2f1e6db6cd1",
   "metadata": {},
   "outputs": [
    {
     "data": {
      "text/latex": [
       "$\\displaystyle - x^{2} - y^{2} + 1$"
      ],
      "text/plain": [
       "-x**2 - y**2 + 1"
      ]
     },
     "execution_count": 51,
     "metadata": {},
     "output_type": "execute_result"
    }
   ],
   "source": [
    "g = 1 - x**2 - y**2\n",
    "g"
   ]
  },
  {
   "cell_type": "markdown",
   "id": "608a5b66-a862-49f7-93c5-4f5a2b0b0e02",
   "metadata": {},
   "source": [
    "&nbsp; Para calcular obter o valor da função de duas variáveis num ponto, basta utilizar a função <b>subs</b>. Por exemplo, para obter $f(1,2)$, basta escrever:"
   ]
  },
  {
   "cell_type": "code",
   "execution_count": 52,
   "id": "2e83bca4-0083-44a3-848b-b8e654b0478d",
   "metadata": {},
   "outputs": [
    {
     "data": {
      "text/latex": [
       "$\\displaystyle -4$"
      ],
      "text/plain": [
       "-4"
      ]
     },
     "execution_count": 52,
     "metadata": {},
     "output_type": "execute_result"
    }
   ],
   "source": [
    "g.subs([(x,1),(y,2)])"
   ]
  },
  {
   "cell_type": "markdown",
   "id": "807de63d-5859-4f3b-bff0-0af294319b21",
   "metadata": {},
   "source": [
    "<hr>\n",
    "<h2 style='color:#0000ff'>5 &nbsp; Pontos de intersecção entre duas curvas</h2>\n",
    "\n",
    "&nbsp; Sejam $f(x)$ e $g(x)$ funções reais. Neste caso, para obter os pontos de intersecção de $f$ e $g$ pode-se podemos utilizar a função <b>solve</b>:\n",
    "\n",
    "$$  \\textrm{solve(f-g,x)} $$\n",
    "\n",
    "&nbsp; Onde $\\textrm{f}$ e $\\textrm{g}$ são funções da variável simbólica $\\textrm{x}$. \n",
    "<br>\n",
    "<b style='color:#008000'>&nbsp; Exemplo 4.1: </b>Encontre os pontos de intersecção entre $f(x)=x$ e $g(x)=2x^2-2x$"
   ]
  },
  {
   "cell_type": "markdown",
   "id": "c151f752-24cf-4a14-87e4-106ff5e4bcb0",
   "metadata": {},
   "source": [
    "&nbsp; <b>Passo 1</b>: Defina $f$ e $g$:"
   ]
  },
  {
   "cell_type": "code",
   "execution_count": 140,
   "id": "6f9aa79d-167c-4123-b6ad-498a2a1c4ee0",
   "metadata": {},
   "outputs": [
    {
     "name": "stdout",
     "output_type": "stream",
     "text": [
      "2*x\n",
      "2*x**2 - 2*x\n"
     ]
    }
   ],
   "source": [
    "f = 2*x\n",
    "g = 2*x**2 - 2*x\n",
    "print(f)\n",
    "print(g)"
   ]
  },
  {
   "cell_type": "markdown",
   "id": "4f44a29d-e7e9-4094-b8a0-486ef949eb86",
   "metadata": {},
   "source": [
    "&nbsp; <b>Passo 2</b>: Obtenha os valores de $x$ tal que $f(x)=g(x)$ :"
   ]
  },
  {
   "cell_type": "code",
   "execution_count": 141,
   "id": "69187b7e-c5f9-4e52-9c97-032d0f43ba52",
   "metadata": {},
   "outputs": [
    {
     "data": {
      "text/plain": [
       "[0, 2]"
      ]
     },
     "execution_count": 141,
     "metadata": {},
     "output_type": "execute_result"
    }
   ],
   "source": [
    "px = solve(f-g,x)\n",
    "px"
   ]
  },
  {
   "cell_type": "markdown",
   "id": "b24f23dd-7085-4a26-b6fb-513194bfb073",
   "metadata": {},
   "source": [
    "&nbsp; Para acessar os valores dentro do vetor $\\textrm{p}$ basta escrever:"
   ]
  },
  {
   "cell_type": "code",
   "execution_count": 142,
   "id": "b000284d-c29c-433c-9660-b20c5a244ffb",
   "metadata": {},
   "outputs": [
    {
     "data": {
      "text/latex": [
       "$\\displaystyle 0$"
      ],
      "text/plain": [
       "0"
      ]
     },
     "execution_count": 142,
     "metadata": {},
     "output_type": "execute_result"
    }
   ],
   "source": [
    "x1 = px[0]\n",
    "x1"
   ]
  },
  {
   "cell_type": "code",
   "execution_count": 143,
   "id": "09e93b13-083c-4470-bf25-a089114fa81f",
   "metadata": {},
   "outputs": [
    {
     "data": {
      "text/latex": [
       "$\\displaystyle 2$"
      ],
      "text/plain": [
       "2"
      ]
     },
     "execution_count": 143,
     "metadata": {},
     "output_type": "execute_result"
    }
   ],
   "source": [
    "x2 = px[1]\n",
    "x2"
   ]
  },
  {
   "cell_type": "markdown",
   "id": "3fd13c1d-c4ea-4f9f-aab1-3245c1d7edda",
   "metadata": {},
   "source": [
    "&nbsp; <b>Passo 3</b>: Obtenha os valors das funções $f$ e $g$ no pontos de $\\textrm{p}$:"
   ]
  },
  {
   "cell_type": "code",
   "execution_count": 144,
   "id": "b35e348c-43cf-4da5-b938-5836b1bf679e",
   "metadata": {},
   "outputs": [
    {
     "data": {
      "text/plain": [
       "(0, 4)"
      ]
     },
     "execution_count": 144,
     "metadata": {},
     "output_type": "execute_result"
    }
   ],
   "source": [
    "y1 = f.subs(x,x1)\n",
    "y2 = f.subs(x,x2)\n",
    "y1,y2"
   ]
  },
  {
   "cell_type": "markdown",
   "id": "59b28dc9-6ecc-4ee1-b269-5f95d56b50bd",
   "metadata": {},
   "source": [
    "&nbsp; Ou, de forma compacta:"
   ]
  },
  {
   "cell_type": "code",
   "execution_count": 146,
   "id": "8dd066f4-0150-4737-b241-6a0f94873416",
   "metadata": {},
   "outputs": [
    {
     "data": {
      "text/plain": [
       "([0, 2], [0, 4])"
      ]
     },
     "execution_count": 146,
     "metadata": {},
     "output_type": "execute_result"
    }
   ],
   "source": [
    "py = [ f.subs(x,px[0]) , f.subs(x,px[1])]\n",
    "px,py"
   ]
  },
  {
   "cell_type": "markdown",
   "id": "036d490d-fcdb-4de1-8f4c-76bf4004a875",
   "metadata": {},
   "source": [
    "<hr>\n",
    "<h2 style='color:#0000ff'>6 &nbsp; Representação gráfica de funções 2D</h2>"
   ]
  },
  {
   "cell_type": "markdown",
   "id": "144dc803-5677-4487-b4e7-f353ac8328a0",
   "metadata": {},
   "source": [
    "&nbsp; Sejam $\\{f_1(x),f_2(x),\\dots,f_n(x) \\}$. Para representar graficamente essas $n$ funções, utilizamos o comando <b>plot</b>:\n",
    "<center>plot( f1 , f2 , ... , fn )</center>"
   ]
  },
  {
   "cell_type": "markdown",
   "id": "92e82136-77d0-4e27-b253-f61194527b2c",
   "metadata": {},
   "source": [
    "&nbsp; O <b>plot</b> permite determinar os limites da variável e das $f_i$, bem como habilitar legenda ao gráfico:\n",
    "<center>plot( f1 , f2 , ... , fn , xlim[a,b] , ylim[a,b] , legend=True )</center>"
   ]
  },
  {
   "cell_type": "markdown",
   "id": "2779a4e5-6dae-448a-b650-21590849a0f7",
   "metadata": {},
   "source": [
    "<b style='color:#008000'>&nbsp; Exemplo 6.1: </b>Represente graficamente as funções a seguir, limitando os eixos ordenados ao intervalo $[0,1]$:\n",
    "$$f_1(x)=(x-1)^2, \\:\\: f_2(x)=-(x-1)^3 , \\:\\: f_3(x)=(x-1)^4$$ "
   ]
  },
  {
   "cell_type": "markdown",
   "id": "e62b9901-362e-4e2a-adda-030c4d5ad8d2",
   "metadata": {},
   "source": [
    "&nbsp; <b>Passo 1</b>: Defina as $f_i$."
   ]
  },
  {
   "cell_type": "code",
   "execution_count": 147,
   "id": "7deea724-3c16-4a3e-857f-d45098fd2d70",
   "metadata": {},
   "outputs": [],
   "source": [
    "f1 = (x-1)**2\n",
    "f2 = -(x-1)**3\n",
    "f3= (x-1)**4"
   ]
  },
  {
   "cell_type": "markdown",
   "id": "33572db5-5a96-41ea-86cb-b87569b528e7",
   "metadata": {},
   "source": [
    "&nbsp; <b>Passo 2</b>: Use o comando <b>plot</b> para representar graficamente as $f_i$."
   ]
  },
  {
   "cell_type": "code",
   "execution_count": 149,
   "id": "44dc7e2b-44cb-4ec1-b150-9199b6144f73",
   "metadata": {},
   "outputs": [
    {
     "data": {
      "image/png": "[encoded data removed]",
      "text/plain": [
       "<Figure size 432x288 with 1 Axes>"
      ]
     },
     "metadata": {
      "needs_background": "light"
     },
     "output_type": "display_data"
    },
    {
     "data": {
      "text/plain": [
       "<sympy.plotting.plot.Plot at 0x23d4c9e4730>"
      ]
     },
     "execution_count": 149,
     "metadata": {},
     "output_type": "execute_result"
    }
   ],
   "source": [
    "plot(f1,f2,f3,xlim=[0,1],ylim=[0,1],legend=True)"
   ]
  },
  {
   "cell_type": "markdown",
   "id": "d0935948-2e68-4b0b-b3bb-82df4eb80d14",
   "metadata": {},
   "source": [
    "<h2 style='color:#0000ff'>7 &nbsp; Integração com Sympy</h2>"
   ]
  },
  {
   "cell_type": "markdown",
   "id": "62d1769e-213f-45a4-bbac-796b2ecc13a2",
   "metadata": {},
   "source": [
    "&nbsp; A biblioteca Sympy fornece a função <b>integrate</b>, essa função pode ser utilizada para calcular integrais indefinidas ou definidas de uma função real de $n$ coordenadas, como mostra a tabela a seguir:\n",
    "\n",
    "<center><b>Cálculo de integrais com o Sympy</b></center>\n",
    "\n",
    "| Integral | Em Python |\n",
    "| --- | --- |\n",
    "| $\\int f(x)dx$ | <font size=\"2px\">integrate( f , x )</font> | \n",
    "| $\\int_{a}^{b} f(x)dx$ | <font size=\"2px\">integrate( f , ( x , a , b) )</font> | \n",
    "| $\\int_{c}^{d}\\int_{a}^{b} f(x,y)dxdy$ | <font size=\"2px\">integrate( f , ( x , a , b ) , ( y , c , d ) )</font> | \n",
    "| $\\int_{a}^{b}\\int_{g(x)}^{h(x)} f(x,y)dxdy$ | <font size=\"2px\">integrate( f , ( x , g , f ) , ( y , a , b ) )</font> | \n",
    "|‎ ‎ ‎ ‎ ‎ ‎ ‎ ‎ ‎ ‎ ‎ ‎ ‎ ‎ ‎ ‎‎ ‎ ‎ ‎ ‎ ‎ ‎ ‎ ‎ ‎ ‎  ‎ ‎ ‎ ‎ ‎ ‎ ‎ ‎ ‎ ‎ ‎ ‎   ‎ ‎ ‎ ‎ ‎‎ ‎ ‎ ‎ ‎ ‎‎ ‎ ‎ ‎Fonte: O autor  | |\n",
    "\n",
    "<hr>"
   ]
  },
  {
   "cell_type": "markdown",
   "id": "7bad28e6-4616-4aa8-84be-172dd86866d8",
   "metadata": {},
   "source": [
    "<h3 style='color:#0e2b58'>7.1 &nbsp;Exercícios: Integral indefinida</h3>"
   ]
  },
  {
   "cell_type": "markdown",
   "id": "7b463ef6-15eb-4389-8829-50b9edc0b906",
   "metadata": {},
   "source": [
    "<b style='color:#008000'>&nbsp; Exercício 7.1.1: </b>Mostre que:"
   ]
  },
  {
   "cell_type": "markdown",
   "id": "886fe2eb-003e-44fb-804c-cd0f12347ea4",
   "metadata": {},
   "source": [
    "&nbsp; a) $I_{a} = \\int e^{2x}\\textrm{sen}(x)dx=\\frac{1}{5}[-e^{2x}\\cos(x)+2e^{2x}\\textrm{sen}(x)]+C$\n",
    "\n",
    "&nbsp;<b style='color:#7f7f7f'>&nbsp;Solução:</b>"
   ]
  },
  {
   "cell_type": "markdown",
   "id": "a17d1a21-c3a8-41ca-926e-c38799d5505f",
   "metadata": {},
   "source": [
    "&nbsp; <b>Passo 1</b>: Declare o integrando."
   ]
  },
  {
   "cell_type": "code",
   "execution_count": 63,
   "id": "5b3e98ce-540d-45ed-95b4-3ab8ac8d986e",
   "metadata": {},
   "outputs": [
    {
     "data": {
      "text/latex": [
       "$\\displaystyle e^{2 x} \\sin{\\left(x \\right)}$"
      ],
      "text/plain": [
       "exp(2*x)*sin(x)"
      ]
     },
     "execution_count": 63,
     "metadata": {},
     "output_type": "execute_result"
    }
   ],
   "source": [
    "fa = exp(2*x)*sin(x)\n",
    "fa"
   ]
  },
  {
   "cell_type": "markdown",
   "id": "e3bc758c-54c6-4d4b-b835-48d7f98229e2",
   "metadata": {},
   "source": [
    "&nbsp; <b>Passo 2</b>: Calcule a integral indefinida."
   ]
  },
  {
   "cell_type": "code",
   "execution_count": 67,
   "id": "958d4012-d4f8-4be3-a418-06a0c1cc7f56",
   "metadata": {},
   "outputs": [
    {
     "data": {
      "text/latex": [
       "$\\displaystyle \\frac{2 e^{2 x} \\sin{\\left(x \\right)}}{5} - \\frac{e^{2 x} \\cos{\\left(x \\right)}}{5}$"
      ],
      "text/plain": [
       "2*exp(2*x)*sin(x)/5 - exp(2*x)*cos(x)/5"
      ]
     },
     "execution_count": 67,
     "metadata": {},
     "output_type": "execute_result"
    }
   ],
   "source": [
    "Ia = integrate(fa,x)\n",
    "Ia"
   ]
  },
  {
   "cell_type": "markdown",
   "id": "215f3f1c-b96f-4f9a-82f1-af3b7bbef383",
   "metadata": {},
   "source": [
    "<hr>"
   ]
  },
  {
   "cell_type": "markdown",
   "id": "9017a0fd-8942-47f6-9a59-be8841724543",
   "metadata": {},
   "source": [
    "&nbsp; b) $ I_{b} = \\int \\textrm{sen}\\left [ \\textrm{ln}(x) \\right ]dx = \\frac{1}{2}x\\textrm{sen}(\\ln|x|)-\\frac{x}{2}\\cos(\\ln|x|)+C$\n",
    "\n",
    "&nbsp;<b style='color:#7f7f7f'>&nbsp;Solução:</b>"
   ]
  },
  {
   "cell_type": "markdown",
   "id": "945a41ee-adb6-4eea-b4bb-35af5a43fa62",
   "metadata": {},
   "source": [
    "&nbsp; <b>Passo 1</b>: Declare o integrando."
   ]
  },
  {
   "cell_type": "code",
   "execution_count": 73,
   "id": "8efbab1e-fb2a-474b-b318-f73208c22f3c",
   "metadata": {},
   "outputs": [
    {
     "data": {
      "text/latex": [
       "$\\displaystyle \\sin{\\left(\\log{\\left(x \\right)} \\right)}$"
      ],
      "text/plain": [
       "sin(log(x))"
      ]
     },
     "execution_count": 73,
     "metadata": {},
     "output_type": "execute_result"
    }
   ],
   "source": [
    "fb = sin(log(x))\n",
    "fb"
   ]
  },
  {
   "cell_type": "markdown",
   "id": "1794f9ba-b814-4bce-9e1f-a957c9f6a5bf",
   "metadata": {},
   "source": [
    "&nbsp; <b>Passo 2</b>: Calcule a integral indefinida."
   ]
  },
  {
   "cell_type": "code",
   "execution_count": 72,
   "id": "52bb117c-8d73-4328-8b01-a078e728ce64",
   "metadata": {},
   "outputs": [
    {
     "data": {
      "text/latex": [
       "$\\displaystyle \\frac{x \\sin{\\left(\\log{\\left(x \\right)} \\right)}}{2} - \\frac{x \\cos{\\left(\\log{\\left(x \\right)} \\right)}}{2}$"
      ],
      "text/plain": [
       "x*sin(log(x))/2 - x*cos(log(x))/2"
      ]
     },
     "execution_count": 72,
     "metadata": {},
     "output_type": "execute_result"
    }
   ],
   "source": [
    "Ib = integrate(fb,x)\n",
    "Ib"
   ]
  },
  {
   "cell_type": "markdown",
   "id": "d48b8dc6-6b56-4890-93a5-64516cd2890e",
   "metadata": {},
   "source": [
    "<hr>"
   ]
  },
  {
   "cell_type": "markdown",
   "id": "b543478c-516e-462b-aad7-517fa8aeb529",
   "metadata": {},
   "source": [
    "<h3 style='color:#0e2b58'>7.2 &nbsp;Exercícios: Integral definida</h3>\n",
    "\n",
    "<b style='color:#008000'>&nbsp; Exercício 7.2.1: </b>Mostre que:\n",
    "\n",
    "&nbsp;a) $I_c = \\int_{-3}^{4}\\left| x+2 \\right|dx=\\frac{37}{2}$\n",
    "\n",
    "&nbsp;<b style='color:#7f7f7f'>&nbsp;Solução:</b>"
   ]
  },
  {
   "cell_type": "code",
   "execution_count": 77,
   "id": "55aad63e-a7f5-4cb5-b3a6-dcaf1af3e641",
   "metadata": {},
   "outputs": [
    {
     "data": {
      "text/latex": [
       "$\\displaystyle \\frac{37}{2}$"
      ],
      "text/plain": [
       "37/2"
      ]
     },
     "execution_count": 77,
     "metadata": {},
     "output_type": "execute_result"
    }
   ],
   "source": [
    "#Declarando o integrando:\n",
    "fc = abs(x+2)\n",
    "#Resolvendo a integral:\n",
    "Ic = integrate(fc,(x,-3,4))\n",
    "Ic"
   ]
  },
  {
   "cell_type": "markdown",
   "id": "ac6d85ab-94f1-4d0f-9f78-c358c6b591e1",
   "metadata": {},
   "source": [
    "&nbsp;b) $I_d = \\int_{0}^{\\pi/2}\\textrm{sen}(x)dx=1$<br>\n",
    "&nbsp; <b>Dica:</b> Em Python, $\\pi$ escreve-se <b><i>pi</i></b>.\n",
    "\n",
    "&nbsp;<b style='color:#7f7f7f'>&nbsp;Solução:</b>\n"
   ]
  },
  {
   "cell_type": "code",
   "execution_count": 78,
   "id": "68ef012a-c9c8-438c-a11a-1c6e4cc97ec5",
   "metadata": {},
   "outputs": [
    {
     "data": {
      "text/latex": [
       "$\\displaystyle 1$"
      ],
      "text/plain": [
       "1"
      ]
     },
     "execution_count": 78,
     "metadata": {},
     "output_type": "execute_result"
    }
   ],
   "source": [
    "#Resolvendo a integral de forma compacta:\n",
    "Id = integrate(sin(x),(x,0,pi/2))\n",
    "Id"
   ]
  },
  {
   "cell_type": "markdown",
   "id": "d7315203-c66b-4306-891c-1cdf8e3f1665",
   "metadata": {},
   "source": [
    "&nbsp;c) $ I_e=\\int_{1}^{2}\\textrm{ln(x)}dx=2\\ln(2)-1$\n",
    "\n",
    "&nbsp;<b style='color:#7f7f7f'>&nbsp;Solução:</b>"
   ]
  },
  {
   "cell_type": "code",
   "execution_count": 101,
   "id": "cb94a0c1-8f2f-426f-8ec9-97a7da954e57",
   "metadata": {},
   "outputs": [
    {
     "data": {
      "text/latex": [
       "$\\displaystyle -1 + 2 \\log{\\left(2 \\right)}$"
      ],
      "text/plain": [
       "-1 + 2*log(2)"
      ]
     },
     "execution_count": 101,
     "metadata": {},
     "output_type": "execute_result"
    }
   ],
   "source": [
    "#Resolvendo a integral de forma compacta:\n",
    "Ie = integrate(ln(x),(x,1,2))\n",
    "Ie"
   ]
  },
  {
   "cell_type": "markdown",
   "id": "746f1837-1186-4cdb-8709-7691935bdd0e",
   "metadata": {},
   "source": [
    "<hr>"
   ]
  },
  {
   "cell_type": "markdown",
   "id": "f4d5895a-337d-4ce3-85ce-816b608f5987",
   "metadata": {},
   "source": [
    "<h3 style='color:#0e2b58'>7.3 &nbsp;Exercícios: Integral iterada</h3>"
   ]
  },
  {
   "cell_type": "markdown",
   "id": "c97275a6-b0b5-4e64-b52b-f48521a17f81",
   "metadata": {},
   "source": [
    "<b style='color:#008000'>&nbsp; Exercício 7.3.1: </b>Mostre que:\n",
    "\n",
    "&nbsp;a) $I_f = \\int_{0}^{3}\\int_{0}^{1}xe^{xy}dydx = e^3-4$\n",
    "\n",
    "&nbsp;<b style='color:#7f7f7f'>&nbsp;Solução:</b>\n",
    "\n",
    "&nbsp; <b>Passo 1</b>: Declare o integrando."
   ]
  },
  {
   "cell_type": "code",
   "execution_count": 84,
   "id": "7afbbe60-c251-4e92-a16a-c73ae4692a96",
   "metadata": {},
   "outputs": [
    {
     "data": {
      "text/latex": [
       "$\\displaystyle x e^{x y}$"
      ],
      "text/plain": [
       "x*exp(x*y)"
      ]
     },
     "execution_count": 84,
     "metadata": {},
     "output_type": "execute_result"
    }
   ],
   "source": [
    "ff = x*exp(x*y)\n",
    "ff"
   ]
  },
  {
   "cell_type": "markdown",
   "id": "04a15fff-58ff-44a7-b0af-21a270fd0599",
   "metadata": {},
   "source": [
    "&nbsp; <b>Passo 2</b>: Calcule a integral indefinida."
   ]
  },
  {
   "cell_type": "code",
   "execution_count": 88,
   "id": "5543e1cd-1f5e-4fdd-a139-dccca5adc2a0",
   "metadata": {},
   "outputs": [
    {
     "data": {
      "text/latex": [
       "$\\displaystyle -4 + e^{3}$"
      ],
      "text/plain": [
       "-4 + exp(3)"
      ]
     },
     "execution_count": 88,
     "metadata": {},
     "output_type": "execute_result"
    }
   ],
   "source": [
    "If = integrate(ff,(y,0,1),(x,0,3))\n",
    "If"
   ]
  },
  {
   "cell_type": "markdown",
   "id": "23f78b88-634f-49fb-a99d-420ca59a38f0",
   "metadata": {},
   "source": [
    "<hr>"
   ]
  },
  {
   "cell_type": "markdown",
   "id": "30050bbb-984b-4db0-b101-4d81c5b67c38",
   "metadata": {},
   "source": [
    "&nbsp;b) $I_g = \\int_{0}^{1}\\int_{0}^{2} x^4 y^2  dydx = \\frac{8}{15}$\n",
    "\n",
    "&nbsp;<b style='color:#7f7f7f'>&nbsp;Solução:</b>\n",
    "\n",
    "&nbsp; <b>Passo 1</b>: Declare o integrando."
   ]
  },
  {
   "cell_type": "code",
   "execution_count": 90,
   "id": "6f752f5c-c92c-4119-b0fa-628a8106c137",
   "metadata": {},
   "outputs": [
    {
     "data": {
      "text/latex": [
       "$\\displaystyle x^{4} y^{2}$"
      ],
      "text/plain": [
       "x**4*y**2"
      ]
     },
     "execution_count": 90,
     "metadata": {},
     "output_type": "execute_result"
    }
   ],
   "source": [
    "fg = x**4*y**2\n",
    "fg"
   ]
  },
  {
   "cell_type": "markdown",
   "id": "48b80bd8-27d1-4d58-98d4-c89bb02015d8",
   "metadata": {},
   "source": [
    "&nbsp; <b>Passo 2</b>: Calcule a integral indefinida."
   ]
  },
  {
   "cell_type": "code",
   "execution_count": 91,
   "id": "ee09a1e1-b130-42ea-b080-f1414ef32e9a",
   "metadata": {},
   "outputs": [
    {
     "data": {
      "text/latex": [
       "$\\displaystyle \\frac{8}{15}$"
      ],
      "text/plain": [
       "8/15"
      ]
     },
     "execution_count": 91,
     "metadata": {},
     "output_type": "execute_result"
    }
   ],
   "source": [
    "Ig = integrate(fg,(y,0,2),(x,0,1))\n",
    "Ig"
   ]
  },
  {
   "cell_type": "markdown",
   "id": "a5b2465a-16cf-4787-8cb5-2990cf5541b5",
   "metadata": {},
   "source": [
    "<hr>"
   ]
  },
  {
   "cell_type": "markdown",
   "id": "71fa5ccf-e457-413a-9d87-5a1596b5a187",
   "metadata": {},
   "source": [
    "&nbsp;c) $I_h = \\int_{1}^{5}\\int_{x^{1/3}}^{x}\\frac{1}{x}dydx = 7-3 \\cdot 5^{1/3} \\approx 1.87 $\n",
    "\n",
    "&nbsp;<b style='color:#7f7f7f'>&nbsp;Solução:</b>"
   ]
  },
  {
   "cell_type": "code",
   "execution_count": 93,
   "id": "e7d92c91-b0a6-4ae0-a08b-29abb8176c98",
   "metadata": {},
   "outputs": [
    {
     "data": {
      "text/latex": [
       "$\\displaystyle 1.87007215996991$"
      ],
      "text/plain": [
       "1.87007215996991"
      ]
     },
     "execution_count": 93,
     "metadata": {},
     "output_type": "execute_result"
    }
   ],
   "source": [
    "#Definindo o integrando:\n",
    "fh = 1/x\n",
    "\n",
    "#Calculando a integral:\n",
    "Ih = integrate( fh , ( y , x**(1/3) , x ) , ( x , 1 ,  5 ) )\n",
    "Ih"
   ]
  },
  {
   "cell_type": "markdown",
   "id": "efcfcaf9-96ef-4cd0-a410-ba567989c862",
   "metadata": {},
   "source": [
    "<hr>"
   ]
  },
  {
   "cell_type": "markdown",
   "id": "633ddddf-44cf-47ce-96d7-525965d2c28f",
   "metadata": {},
   "source": [
    "&nbsp;d) $I_i = \\int_{0}^{2}\\int_{0}^{\\sqrt{y}}x^3dxdy = \\frac{2}{3} $\n",
    "\n",
    "&nbsp;<b style='color:#7f7f7f'>&nbsp;Solução:</b>"
   ]
  },
  {
   "cell_type": "code",
   "execution_count": 97,
   "id": "e1a828d9-d74c-4a06-9816-0f4f391e648c",
   "metadata": {},
   "outputs": [
    {
     "data": {
      "text/latex": [
       "$\\displaystyle \\frac{2}{3}$"
      ],
      "text/plain": [
       "2/3"
      ]
     },
     "execution_count": 97,
     "metadata": {},
     "output_type": "execute_result"
    }
   ],
   "source": [
    "#Resolvendo a integral de forma compacta:\n",
    "Ii = integrate(x**3,(x,0,sqrt(y)),(y,0,2))\n",
    "Ii"
   ]
  },
  {
   "cell_type": "markdown",
   "id": "cdfa19ca-6004-4311-9141-d57a0a863d78",
   "metadata": {},
   "source": [
    "<h2 style='color:#0000ff'>8 &nbsp; Resolução da questão norteadora</h2>"
   ]
  },
  {
   "cell_type": "markdown",
   "id": "acdced11-f943-4d9f-ad21-689c9e40302c",
   "metadata": {},
   "source": [
    "<b style='color:#b50000'>Adaptado de:</b><b> Aplicações do cálculo diferencial e integral: temperatura, calor e dilatação térmica.</b> Autor: Freitas, Roseli Scaranello de Paula. Página 54 e 55. Disponível em <http://hdl.handle.net/11449/214512>."
   ]
  },
  {
   "cell_type": "markdown",
   "id": "35a3372b-bf85-4590-b906-2bceaf05ab30",
   "metadata": {},
   "source": [
    "&nbsp; Sabemos que a queima de combustíveis fósseis gera a poluição\n",
    "atmosférica que é o grande vilão do aquecimento global, com isso, um pesquisador\n",
    "universitário se preocupando com o meio ambiente, desenvolveu um motor de carro\n",
    "que se acredita atender a todos os padrões estaduais de controle de emissões. A\n",
    "nova taxa de emissão do motor é dada por:\n",
    "\n",
    "$$ E(t)=2t^2 $$\n",
    "\n",
    "onde estão as emissões, em bilhões de poluição partículas por ano, no tempo t, em\n",
    "anos. A emissão da taxa de um motor convencional é dada por:\n",
    "\n",
    "$$ C(t) = 9 + t^2$$\n",
    "\n",
    "<b> Responda: </b>\n",
    "\n",
    "a) Em que momento teremos a mesma taxa de emissão das partículas?<br>\n",
    "b) Qual a redução nas emissões no resultado do uso do motor do pesquisador?\n",
    "<hr>"
   ]
  },
  {
   "cell_type": "markdown",
   "id": "954e5a5d-5bde-44ef-b3b4-27a4a5be0b0f",
   "metadata": {
    "tags": []
   },
   "source": [
    "<h3 style='color:#7f7f7f'>Resolução (a)</h3>"
   ]
  },
  {
   "cell_type": "markdown",
   "id": "303be992-36c3-4dc4-8d83-f95e6e6c99aa",
   "metadata": {},
   "source": [
    "<b>Passo 1</b>: Declare a variável $t$."
   ]
  },
  {
   "cell_type": "code",
   "execution_count": 192,
   "id": "c14488a5-1c11-4e10-96be-fc1408e8549e",
   "metadata": {},
   "outputs": [],
   "source": [
    "t = Symbol('t')"
   ]
  },
  {
   "cell_type": "markdown",
   "id": "e21e89b5-8ed6-41ad-8da1-31e2d1887da8",
   "metadata": {},
   "source": [
    "<b>Passo 2</b> Declare equações para $E(t)$ e $C(t)$."
   ]
  },
  {
   "cell_type": "code",
   "execution_count": 204,
   "id": "d11893cd-8c27-4aa8-a01a-e1fa90da2837",
   "metadata": {},
   "outputs": [],
   "source": [
    "E = 2*t**2 \n",
    "C = 9 + t**2"
   ]
  },
  {
   "cell_type": "markdown",
   "id": "d62998e5-06fd-4cae-894e-8c2c45421619",
   "metadata": {
    "tags": []
   },
   "source": [
    "<b>Passo 3</b>: Resolva $E(t)=C(t)$."
   ]
  },
  {
   "cell_type": "code",
   "execution_count": 205,
   "id": "b226921b-2c1e-4e37-b882-eef9cbee21c7",
   "metadata": {},
   "outputs": [
    {
     "data": {
      "text/plain": [
       "[-3, 3]"
      ]
     },
     "execution_count": 205,
     "metadata": {},
     "output_type": "execute_result"
    }
   ],
   "source": [
    "res = solve(E-C,t)\n",
    "res"
   ]
  },
  {
   "cell_type": "markdown",
   "id": "cacbad96-8a2d-4983-adec-3808abac754e",
   "metadata": {},
   "source": [
    "Logo, o momento em que teremos a mesma taxa de emissão das partículas é no instante $t=3$ segundos."
   ]
  },
  {
   "cell_type": "markdown",
   "id": "10cced39-f856-4ef9-b08c-f2b2dbeb0afe",
   "metadata": {},
   "source": [
    "<h3 style='color:#7f7f7f'>Resolução (b)</h3>"
   ]
  },
  {
   "cell_type": "markdown",
   "id": "6ff9d708-9cfa-4c3e-a077-28ca80e55f49",
   "metadata": {},
   "source": [
    "Vamos representar graficamente $E(t)$ e $C(t)$ utilizando a função <b>plot</b>. "
   ]
  },
  {
   "cell_type": "code",
   "execution_count": 182,
   "id": "2410ec01-3ea6-444b-8e98-664d1e5a1898",
   "metadata": {},
   "outputs": [
    {
     "data": {
      "image/png": "[encoded data removed]",
      "text/plain": [
       "<Figure size 432x288 with 1 Axes>"
      ]
     },
     "metadata": {
      "needs_background": "light"
     },
     "output_type": "display_data"
    },
    {
     "data": {
      "text/plain": [
       "<sympy.plotting.plot.Plot at 0x23d58034cd0>"
      ]
     },
     "execution_count": 182,
     "metadata": {},
     "output_type": "execute_result"
    }
   ],
   "source": [
    "plot(E,C,xlim=[0,8],ylim=[0,30],legend=True)"
   ]
  },
  {
   "cell_type": "markdown",
   "id": "7b31f6a9-aaae-4853-8d5b-bb35a494698f",
   "metadata": {},
   "source": [
    "<b>Passo único</b>: Calcule a área acima de $C(t)$ e a abaixo de $E(t)$"
   ]
  },
  {
   "cell_type": "code",
   "execution_count": 190,
   "id": "f291cca7-edb1-4963-a79b-1b68675b7a9e",
   "metadata": {},
   "outputs": [
    {
     "data": {
      "text/latex": [
       "$\\displaystyle 18$"
      ],
      "text/plain": [
       "18"
      ]
     },
     "execution_count": 190,
     "metadata": {},
     "output_type": "execute_result"
    }
   ],
   "source": [
    "nParticulas = sp.integrate( C - E , ( t , 0 , 3 ) ) \n",
    "nParticulas"
   ]
  },
  {
   "cell_type": "markdown",
   "id": "8dfcca5e-7613-48da-bdea-5f1efda1fdc9",
   "metadata": {},
   "source": [
    "Portanto, <b>18 bilhões</b> de partículas de poluição são reduzidas em três anos."
   ]
  }
 ],
 "metadata": {
  "kernelspec": {
   "display_name": "Python 3 (ipykernel)",
   "language": "python",
   "name": "python3"
  },
  "language_info": {
   "codemirror_mode": {
    "name": "ipython",
    "version": 3
   },
   "file_extension": ".py",
   "mimetype": "text/x-python",
   "name": "python",
   "nbconvert_exporter": "python",
   "pygments_lexer": "ipython3",
   "version": "3.10.2"
  }
 },
 "nbformat": 4,
 "nbformat_minor": 5
}
